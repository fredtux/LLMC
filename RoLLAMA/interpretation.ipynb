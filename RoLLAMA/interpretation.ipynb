{
 "cells": [
  {
   "cell_type": "code",
   "execution_count": 9,
   "metadata": {},
   "outputs": [],
   "source": [
    "import json\n",
    "import math\n",
    "import numpy as np"
   ]
  },
  {
   "cell_type": "code",
   "execution_count": 10,
   "metadata": {},
   "outputs": [],
   "source": [
    "def clean_nans(data: dict) -> dict:\n",
    "    for region_key in data:\n",
    "        region = data[region_key][0]\n",
    "        \n",
    "        # neg_log_sum = 0\n",
    "        \n",
    "        # Content\n",
    "        for content_key in region['content']:\n",
    "            for i in range(len(region['content'][content_key])):\n",
    "                if math.isnan(region['content'][content_key][i]):\n",
    "                    data[region_key][0]['content'][content_key][i] = 0\n",
    "                    \n",
    "        # Titles\n",
    "        for title_key in region['titles']:\n",
    "            for i in range(len(region['titles'][title_key])):\n",
    "                if math.isnan(region['titles'][title_key][i]):\n",
    "                    data[region_key][0]['titles'][title_key][i] = 0\n",
    "                    # neg_log_sum += 0\n",
    "                # else:\n",
    "                    # neg_log_sum += region['titles'][title_key][i]\n",
    "                    \n",
    "        if math.isnan(data[region_key][0]['perp_mean_content']):\n",
    "            data[region_key][0]['perp_mean_content'] = math.exp(np.array(region['content']['neg_log_likelihood']).mean())\n",
    "        if math.isnan(data[region_key][0]['perp_mean_titles']):\n",
    "            data[region_key][0]['perp_mean_titles'] = math.exp(np.array(region['titles']['neg_log_likelihood']).mean())\n",
    "            \n",
    "    return data"
   ]
  },
  {
   "cell_type": "code",
   "execution_count": 11,
   "metadata": {},
   "outputs": [],
   "source": [
    "# data_rest['Moldova'][0]['titles']['neg_log_likelihood']\n",
    "# data_rest['Moldova'][0]['perp_mean_titles']"
   ]
  },
  {
   "cell_type": "code",
   "execution_count": 12,
   "metadata": {},
   "outputs": [
    {
     "name": "stdout",
     "output_type": "stream",
     "text": [
      "dict_keys(['Ardeal', 'Banat', 'Bucovina', 'Crisana', 'Dobrogea', 'Maramures', 'Moldova', 'Muntenia', 'Oltenia'])\n",
      "dict_keys(['Canada_EN', 'Canada_Quebec', 'Germania', 'Italia', 'UK', 'Spania'])\n",
      "dict_keys(['Serbia', 'Ucraina'])\n",
      "dict_keys(['Ardeal', 'Banat', 'Bucovina', 'Canada_EN', 'Canada_Quebec', 'Crisana', 'Dobrogea', 'Germania', 'Italia', 'Maramures', 'Moldova', 'Muntenia', 'Oltenia', 'Serbia', 'Spania', 'Ucraina', 'UK'])\n"
     ]
    }
   ],
   "source": [
    "with open(\"results_regions_rest.json\") as f:\n",
    "    data_rest = json.load(f)\n",
    "data_rest = clean_nans(data_rest)\n",
    "    \n",
    "    \n",
    "data_ro = data_rest.copy()\n",
    "data_ro = clean_nans(data_ro)\n",
    "\n",
    "data_int = {\"Canada_EN\": [], \"Canada_Quebec\": [], \"Germania\": [], \"Italia\": [], \"UK\": [], \"Spania\": []}\n",
    "data_int_ist = {\"Serbia\": [], \"Ucraina\": []}\n",
    "\n",
    "for key in data_int:\n",
    "    data_int[key] = data_ro[key]\n",
    "    data_ro.pop(key)\n",
    "    \n",
    "for key in data_int_ist:\n",
    "    data_int_ist[key] = data_ro[key]\n",
    "    data_ro.pop(key)\n",
    "    \n",
    "print(data_ro.keys())\n",
    "print(data_int.keys())\n",
    "print(data_int_ist.keys())\n",
    "\n",
    "print(data_rest.keys())\n"
   ]
  },
  {
   "cell_type": "code",
   "execution_count": 13,
   "metadata": {},
   "outputs": [
    {
     "name": "stdout",
     "output_type": "stream",
     "text": [
      "dict_keys(['Balti', 'Cahul', 'Calarasi', 'Causeni', 'Comrat', 'Criuleni', 'Hincesti', 'Ialoveni', 'Orhei', 'Sangerei', 'Soroca', 'Ungheni'])\n"
     ]
    }
   ],
   "source": [
    "with open(\"results_regions_md.json\") as f:\n",
    "    data_md = json.load(f)\n",
    "\n",
    "data_md = clean_nans(data_md)\n",
    "\n",
    "print(data_md.keys())"
   ]
  },
  {
   "cell_type": "code",
   "execution_count": 14,
   "metadata": {},
   "outputs": [],
   "source": [
    "data_all = {**data_ro, **data_int, **data_int_ist, **data_md}"
   ]
  },
  {
   "cell_type": "code",
   "execution_count": 15,
   "metadata": {},
   "outputs": [
    {
     "data": {
      "text/plain": [
       "dict_keys(['content', 'titles', 'perp_mean_content', 'perp_mean_titles'])"
      ]
     },
     "execution_count": 15,
     "metadata": {},
     "output_type": "execute_result"
    }
   ],
   "source": [
    "data_all['Ardeal'][0].keys()"
   ]
  },
  {
   "cell_type": "code",
   "execution_count": 16,
   "metadata": {},
   "outputs": [
    {
     "data": {
      "text/plain": [
       "{'Ardeal': {'perp_mean_content': 4.11988123537562,\n",
       "  'perp_mean_titles': 6.8154556026767805},\n",
       " 'Banat': {'perp_mean_content': 3.774686696359812,\n",
       "  'perp_mean_titles': 7.565259425454763},\n",
       " 'Bucovina': {'perp_mean_content': 3.9298467986431134,\n",
       "  'perp_mean_titles': 6.946063853353723},\n",
       " 'Crisana': {'perp_mean_content': 4.339751111537143,\n",
       "  'perp_mean_titles': 6.608141059858067},\n",
       " 'Dobrogea': {'perp_mean_content': 3.8242365778199727,\n",
       "  'perp_mean_titles': 6.529627169431906},\n",
       " 'Maramures': {'perp_mean_content': 5.797486126184573,\n",
       "  'perp_mean_titles': 8.19785606681166},\n",
       " 'Moldova': {'perp_mean_content': 3.9821497806020107,\n",
       "  'perp_mean_titles': 6.661038244193629},\n",
       " 'Muntenia': {'perp_mean_content': 3.680444205389645,\n",
       "  'perp_mean_titles': 6.0760401810295175},\n",
       " 'Oltenia': {'perp_mean_content': 3.5997690612450666,\n",
       "  'perp_mean_titles': 6.657202079260356},\n",
       " 'Canada_EN': {'perp_mean_content': 5.961570441448722,\n",
       "  'perp_mean_titles': 8.948589242624795},\n",
       " 'Canada_Quebec': {'perp_mean_content': 10.833763400482047,\n",
       "  'perp_mean_titles': 6.2103789162723135},\n",
       " 'Germania': {'perp_mean_content': 4.747078700687334,\n",
       "  'perp_mean_titles': 12.073335432717512},\n",
       " 'Italia': {'perp_mean_content': 4.497565248945628,\n",
       "  'perp_mean_titles': 7.498733942678052},\n",
       " 'UK': {'perp_mean_content': 4.769135037155428,\n",
       "  'perp_mean_titles': 7.661450396958569},\n",
       " 'Spania': {'perp_mean_content': 4.469173491132009,\n",
       "  'perp_mean_titles': 10.318162189160294},\n",
       " 'Serbia': {'perp_mean_content': 4.790100658341748,\n",
       "  'perp_mean_titles': 10.960143270655541},\n",
       " 'Ucraina': {'perp_mean_content': 4.291430199420347,\n",
       "  'perp_mean_titles': 9.044876061592126},\n",
       " 'Balti': {'perp_mean_content': 5.942809724251852,\n",
       "  'perp_mean_titles': 6.660875081427548},\n",
       " 'Cahul': {'perp_mean_content': 4.026942868382406,\n",
       "  'perp_mean_titles': 8.16505956384544},\n",
       " 'Calarasi': {'perp_mean_content': 4.056850054395062,\n",
       "  'perp_mean_titles': 5.800228037905479},\n",
       " 'Causeni': {'perp_mean_content': 4.145000573353799,\n",
       "  'perp_mean_titles': 8.040855803660067},\n",
       " 'Comrat': {'perp_mean_content': 1.0130222212795297,\n",
       "  'perp_mean_titles': 7.699024417756835},\n",
       " 'Criuleni': {'perp_mean_content': 4.85809126110217,\n",
       "  'perp_mean_titles': 10.75739791330969},\n",
       " 'Hincesti': {'perp_mean_content': 9.869468679442504,\n",
       "  'perp_mean_titles': 7.545177458925458},\n",
       " 'Ialoveni': {'perp_mean_content': 4.261352190642733,\n",
       "  'perp_mean_titles': 6.749286570844493},\n",
       " 'Orhei': {'perp_mean_content': 4.2920217567774035,\n",
       "  'perp_mean_titles': 7.0056750663824525},\n",
       " 'Sangerei': {'perp_mean_content': 5.772268637470266,\n",
       "  'perp_mean_titles': 9.44000381675157},\n",
       " 'Soroca': {'perp_mean_content': 4.157610539663843,\n",
       "  'perp_mean_titles': 8.09109282516786},\n",
       " 'Ungheni': {'perp_mean_content': 4.075399927186599,\n",
       "  'perp_mean_titles': 6.822732657703721}}"
      ]
     },
     "execution_count": 16,
     "metadata": {},
     "output_type": "execute_result"
    }
   ],
   "source": [
    "perps = {}\n",
    "\n",
    "for region in data_all:\n",
    "    perps[region] = {'perp_mean_content': data_all[region][0]['perp_mean_content'], 'perp_mean_titles': data_all[region][0]['perp_mean_titles']}\n",
    "perps"
   ]
  },
  {
   "cell_type": "code",
   "execution_count": 17,
   "metadata": {},
   "outputs": [
    {
     "name": "stdout",
     "output_type": "stream",
     "text": [
      "Canada_Quebec {'perp_mean_content': 10.833763400482047, 'perp_mean_titles': 6.2103789162723135}\n",
      "Germania {'perp_mean_content': 4.747078700687334, 'perp_mean_titles': 12.073335432717512}\n",
      "Comrat {'perp_mean_content': 1.0130222212795297, 'perp_mean_titles': 7.699024417756835}\n",
      "Calarasi {'perp_mean_content': 4.056850054395062, 'perp_mean_titles': 5.800228037905479}\n",
      "4.754445076024772\n",
      "7.8465435292555235\n"
     ]
    }
   ],
   "source": [
    "max_perp_mean_content = max(perps, key=lambda x: perps[x]['perp_mean_content'])\n",
    "\n",
    "max_perp_mean_titles = max(perps, key=lambda x: perps[x]['perp_mean_titles'])\n",
    "\n",
    "min_perp_mean_content = min(perps, key=lambda x: perps[x]['perp_mean_content'])\n",
    "\n",
    "min_perp_mean_titles = min(perps, key=lambda x: perps[x]['perp_mean_titles'])\n",
    "\n",
    "mean_perp_mean_content = np.array([perps[region]['perp_mean_content'] for region in perps]).mean()\n",
    "\n",
    "mean_perp_mean_titles = np.array([perps[region]['perp_mean_titles'] for region in perps]).mean()\n",
    "\n",
    "print(max_perp_mean_content, perps[max_perp_mean_content])\n",
    "print(max_perp_mean_titles, perps[max_perp_mean_titles])\n",
    "print(min_perp_mean_content, perps[min_perp_mean_content])\n",
    "print(min_perp_mean_titles, perps[min_perp_mean_titles])\n",
    "print(mean_perp_mean_content)\n",
    "print(mean_perp_mean_titles)"
   ]
  },
  {
   "cell_type": "code",
   "execution_count": 18,
   "metadata": {},
   "outputs": [
    {
     "data": {
      "text/plain": [
       "{'Ardeal': {'perp_mean_content': 4.11988123537562,\n",
       "  'perp_mean_titles': 6.8154556026767805},\n",
       " 'Banat': {'perp_mean_content': 3.774686696359812,\n",
       "  'perp_mean_titles': 7.565259425454763},\n",
       " 'Bucovina': {'perp_mean_content': 3.9298467986431134,\n",
       "  'perp_mean_titles': 6.946063853353723},\n",
       " 'Crisana': {'perp_mean_content': 4.339751111537143,\n",
       "  'perp_mean_titles': 6.608141059858067},\n",
       " 'Dobrogea': {'perp_mean_content': 3.8242365778199727,\n",
       "  'perp_mean_titles': 6.529627169431906},\n",
       " 'Maramures': {'perp_mean_content': 5.797486126184573,\n",
       "  'perp_mean_titles': 8.19785606681166},\n",
       " 'Moldova': {'perp_mean_content': 3.9821497806020107,\n",
       "  'perp_mean_titles': 6.661038244193629},\n",
       " 'Muntenia': {'perp_mean_content': 3.680444205389645,\n",
       "  'perp_mean_titles': 6.0760401810295175},\n",
       " 'Oltenia': {'perp_mean_content': 3.5997690612450666,\n",
       "  'perp_mean_titles': 6.657202079260356}}"
      ]
     },
     "execution_count": 18,
     "metadata": {},
     "output_type": "execute_result"
    }
   ],
   "source": [
    "perps_ro = {}\n",
    "\n",
    "for region in data_ro:\n",
    "    perps_ro[region] = {'perp_mean_content': data_ro[region][0]['perp_mean_content'], 'perp_mean_titles': data_ro[region][0]['perp_mean_titles']}\n",
    "perps_ro"
   ]
  },
  {
   "cell_type": "code",
   "execution_count": 19,
   "metadata": {},
   "outputs": [
    {
     "name": "stdout",
     "output_type": "stream",
     "text": [
      "Maramures {'perp_mean_content': 5.797486126184573, 'perp_mean_titles': 8.19785606681166}\n",
      "Maramures {'perp_mean_content': 5.797486126184573, 'perp_mean_titles': 8.19785606681166}\n",
      "Oltenia {'perp_mean_content': 3.5997690612450666, 'perp_mean_titles': 6.657202079260356}\n",
      "Muntenia {'perp_mean_content': 3.680444205389645, 'perp_mean_titles': 6.0760401810295175}\n",
      "4.116472399239663\n",
      "6.8951870757856\n"
     ]
    }
   ],
   "source": [
    "max_perp_mean_content = max(perps_ro, key=lambda x: perps_ro[x]['perp_mean_content'])\n",
    "\n",
    "max_perp_mean_titles = max(perps_ro, key=lambda x: perps_ro[x]['perp_mean_titles'])\n",
    "\n",
    "min_perp_mean_content = min(perps_ro, key=lambda x: perps_ro[x]['perp_mean_content'])\n",
    "\n",
    "min_perp_mean_titles = min(perps_ro, key=lambda x: perps_ro[x]['perp_mean_titles'])\n",
    "\n",
    "mean_perp_mean_content = np.array([perps_ro[region]['perp_mean_content'] for region in perps_ro]).mean()\n",
    "\n",
    "mean_perp_mean_titles = np.array([perps_ro[region]['perp_mean_titles'] for region in perps_ro]).mean()\n",
    "\n",
    "print(max_perp_mean_content, perps_ro[max_perp_mean_content])\n",
    "print(max_perp_mean_titles, perps_ro[max_perp_mean_titles])\n",
    "print(min_perp_mean_content, perps_ro[min_perp_mean_content])\n",
    "print(min_perp_mean_titles, perps_ro[min_perp_mean_titles])\n",
    "print(mean_perp_mean_content)\n",
    "print(mean_perp_mean_titles)"
   ]
  },
  {
   "cell_type": "code",
   "execution_count": 20,
   "metadata": {},
   "outputs": [
    {
     "data": {
      "text/plain": [
       "{'Balti': {'perp_mean_content': 5.942809724251852,\n",
       "  'perp_mean_titles': 6.660875081427548},\n",
       " 'Cahul': {'perp_mean_content': 4.026942868382406,\n",
       "  'perp_mean_titles': 8.16505956384544},\n",
       " 'Calarasi': {'perp_mean_content': 4.056850054395062,\n",
       "  'perp_mean_titles': 5.800228037905479},\n",
       " 'Causeni': {'perp_mean_content': 4.145000573353799,\n",
       "  'perp_mean_titles': 8.040855803660067},\n",
       " 'Comrat': {'perp_mean_content': 1.0130222212795297,\n",
       "  'perp_mean_titles': 7.699024417756835},\n",
       " 'Criuleni': {'perp_mean_content': 4.85809126110217,\n",
       "  'perp_mean_titles': 10.75739791330969},\n",
       " 'Hincesti': {'perp_mean_content': 9.869468679442504,\n",
       "  'perp_mean_titles': 7.545177458925458},\n",
       " 'Ialoveni': {'perp_mean_content': 4.261352190642733,\n",
       "  'perp_mean_titles': 6.749286570844493},\n",
       " 'Orhei': {'perp_mean_content': 4.2920217567774035,\n",
       "  'perp_mean_titles': 7.0056750663824525},\n",
       " 'Sangerei': {'perp_mean_content': 5.772268637470266,\n",
       "  'perp_mean_titles': 9.44000381675157},\n",
       " 'Soroca': {'perp_mean_content': 4.157610539663843,\n",
       "  'perp_mean_titles': 8.09109282516786},\n",
       " 'Ungheni': {'perp_mean_content': 4.075399927186599,\n",
       "  'perp_mean_titles': 6.822732657703721}}"
      ]
     },
     "execution_count": 20,
     "metadata": {},
     "output_type": "execute_result"
    }
   ],
   "source": [
    "perps_md = {}\n",
    "\n",
    "for region in data_md:\n",
    "    perps_md[region] = {'perp_mean_content': data_md[region][0]['perp_mean_content'], 'perp_mean_titles': data_md[region][0]['perp_mean_titles']}\n",
    "perps_md"
   ]
  },
  {
   "cell_type": "code",
   "execution_count": 21,
   "metadata": {},
   "outputs": [
    {
     "name": "stdout",
     "output_type": "stream",
     "text": [
      "Hincesti {'perp_mean_content': 9.869468679442504, 'perp_mean_titles': 7.545177458925458}\n",
      "Criuleni {'perp_mean_content': 4.85809126110217, 'perp_mean_titles': 10.75739791330969}\n",
      "Comrat {'perp_mean_content': 1.0130222212795297, 'perp_mean_titles': 7.699024417756835}\n",
      "Calarasi {'perp_mean_content': 4.056850054395062, 'perp_mean_titles': 5.800228037905479}\n",
      "4.705903202829014\n",
      "7.731450767806719\n"
     ]
    }
   ],
   "source": [
    "max_perp_mean_content = max(perps_md, key=lambda x: perps_md[x]['perp_mean_content'])\n",
    "\n",
    "max_perp_mean_titles = max(perps_md, key=lambda x: perps_md[x]['perp_mean_titles'])\n",
    "\n",
    "min_perp_mean_content = min(perps_md, key=lambda x: perps_md[x]['perp_mean_content'])\n",
    "\n",
    "min_perp_mean_titles = min(perps_md, key=lambda x: perps_md[x]['perp_mean_titles'])\n",
    "\n",
    "mean_perp_mean_content = np.array([perps_md[region]['perp_mean_content'] for region in perps_md]).mean()\n",
    "\n",
    "mean_perp_mean_titles = np.array([perps_md[region]['perp_mean_titles'] for region in perps_md]).mean()\n",
    "\n",
    "print(max_perp_mean_content, perps_md[max_perp_mean_content])\n",
    "print(max_perp_mean_titles, perps_md[max_perp_mean_titles])\n",
    "print(min_perp_mean_content, perps_md[min_perp_mean_content])\n",
    "print(min_perp_mean_titles, perps_md[min_perp_mean_titles])\n",
    "print(mean_perp_mean_content)\n",
    "print(mean_perp_mean_titles)"
   ]
  },
  {
   "cell_type": "code",
   "execution_count": 22,
   "metadata": {},
   "outputs": [
    {
     "data": {
      "text/plain": [
       "{'Canada_EN': {'perp_mean_content': 5.961570441448722,\n",
       "  'perp_mean_titles': 8.948589242624795},\n",
       " 'Canada_Quebec': {'perp_mean_content': 10.833763400482047,\n",
       "  'perp_mean_titles': 6.2103789162723135},\n",
       " 'Germania': {'perp_mean_content': 4.747078700687334,\n",
       "  'perp_mean_titles': 12.073335432717512},\n",
       " 'Italia': {'perp_mean_content': 4.497565248945628,\n",
       "  'perp_mean_titles': 7.498733942678052},\n",
       " 'UK': {'perp_mean_content': 4.769135037155428,\n",
       "  'perp_mean_titles': 7.661450396958569},\n",
       " 'Spania': {'perp_mean_content': 4.469173491132009,\n",
       "  'perp_mean_titles': 10.318162189160294}}"
      ]
     },
     "execution_count": 22,
     "metadata": {},
     "output_type": "execute_result"
    }
   ],
   "source": [
    "perps_int = {}\n",
    "\n",
    "for region in data_int:\n",
    "    perps_int[region] = {'perp_mean_content': data_int[region][0]['perp_mean_content'], 'perp_mean_titles': data_int[region][0]['perp_mean_titles']}\n",
    "perps_int"
   ]
  },
  {
   "cell_type": "code",
   "execution_count": 23,
   "metadata": {},
   "outputs": [
    {
     "name": "stdout",
     "output_type": "stream",
     "text": [
      "Canada_Quebec {'perp_mean_content': 10.833763400482047, 'perp_mean_titles': 6.2103789162723135}\n",
      "Germania {'perp_mean_content': 4.747078700687334, 'perp_mean_titles': 12.073335432717512}\n",
      "Spania {'perp_mean_content': 4.469173491132009, 'perp_mean_titles': 10.318162189160294}\n",
      "Canada_Quebec {'perp_mean_content': 10.833763400482047, 'perp_mean_titles': 6.2103789162723135}\n",
      "5.8797143866418615\n",
      "8.785108353401924\n"
     ]
    }
   ],
   "source": [
    "max_perp_mean_content = max(perps_int, key=lambda x: perps_int[x]['perp_mean_content'])\n",
    "\n",
    "max_perp_mean_titles = max(perps_int, key=lambda x: perps_int[x]['perp_mean_titles'])\n",
    "\n",
    "min_perp_mean_content = min(perps_int, key=lambda x: perps_int[x]['perp_mean_content'])\n",
    "\n",
    "min_perp_mean_titles = min(perps_int, key=lambda x: perps_int[x]['perp_mean_titles'])\n",
    "\n",
    "mean_perp_mean_content = np.array([perps_int[region]['perp_mean_content'] for region in perps_int]).mean()\n",
    "\n",
    "mean_perp_mean_titles = np.array([perps_int[region]['perp_mean_titles'] for region in perps_int]).mean()\n",
    "\n",
    "print(max_perp_mean_content, perps_int[max_perp_mean_content])\n",
    "print(max_perp_mean_titles, perps_int[max_perp_mean_titles])\n",
    "print(min_perp_mean_content, perps_int[min_perp_mean_content])\n",
    "print(min_perp_mean_titles, perps_int[min_perp_mean_titles])\n",
    "print(mean_perp_mean_content)\n",
    "print(mean_perp_mean_titles)"
   ]
  },
  {
   "cell_type": "code",
   "execution_count": 24,
   "metadata": {},
   "outputs": [
    {
     "data": {
      "text/plain": [
       "{'Serbia': {'perp_mean_content': 4.790100658341748,\n",
       "  'perp_mean_titles': 10.960143270655541},\n",
       " 'Ucraina': {'perp_mean_content': 4.291430199420347,\n",
       "  'perp_mean_titles': 9.044876061592126}}"
      ]
     },
     "execution_count": 24,
     "metadata": {},
     "output_type": "execute_result"
    }
   ],
   "source": [
    "perps_int_ist = {}\n",
    "\n",
    "for region in data_int_ist:\n",
    "    perps_int_ist[region] = {'perp_mean_content': data_int_ist[region][0]['perp_mean_content'], 'perp_mean_titles': data_int_ist[region][0]['perp_mean_titles']}\n",
    "perps_int_ist"
   ]
  },
  {
   "cell_type": "code",
   "execution_count": 28,
   "metadata": {},
   "outputs": [
    {
     "data": {
      "text/plain": [
       "dict_keys(['perplexity', 'neg_log_likelihood'])"
      ]
     },
     "execution_count": 28,
     "metadata": {},
     "output_type": "execute_result"
    }
   ],
   "source": [
    "data_all['Ardeal'][0]['content'].keys()"
   ]
  },
  {
   "cell_type": "code",
   "execution_count": 39,
   "metadata": {},
   "outputs": [
    {
     "data": {
      "text/plain": [
       "{'Ardeal': {'mean_perp': np.float64(4.4317315299968945),\n",
       "  'min_perp': np.float64(1.149672602376646),\n",
       "  'max_perp': np.float64(60.14090212824195)},\n",
       " 'Banat': {'mean_perp': np.float64(4.086846235487668),\n",
       "  'min_perp': np.float64(1.3429912924327487),\n",
       "  'max_perp': np.float64(53.36510756102018)},\n",
       " 'Bucovina': {'mean_perp': np.float64(4.140405009321156),\n",
       "  'min_perp': np.float64(1.4138290681514019),\n",
       "  'max_perp': np.float64(15.93436591541266)},\n",
       " 'Crisana': {'mean_perp': np.float64(4.52332360291131),\n",
       "  'min_perp': np.float64(1.0992057050863138),\n",
       "  'max_perp': np.float64(13.669817053249407)},\n",
       " 'Dobrogea': {'mean_perp': np.float64(3.9332087639912494),\n",
       "  'min_perp': np.float64(1.658407336662592),\n",
       "  'max_perp': np.float64(11.687266414001131)},\n",
       " 'Maramures': {'mean_perp': np.float64(6.909569385383215),\n",
       "  'min_perp': np.float64(2.146248056391919),\n",
       "  'max_perp': np.float64(20.085723685897733)},\n",
       " 'Moldova': {'mean_perp': np.float64(4.28598139668961),\n",
       "  'min_perp': np.float64(1.5051789943117684),\n",
       "  'max_perp': np.float64(13.902184475062663)},\n",
       " 'Muntenia': {'mean_perp': np.float64(3.9072421871191323),\n",
       "  'min_perp': np.float64(1.5365662674698843),\n",
       "  'max_perp': np.float64(17.799993183362805)},\n",
       " 'Oltenia': {'mean_perp': np.float64(3.820931933089055),\n",
       "  'min_perp': np.float64(1.3711093873563511),\n",
       "  'max_perp': np.float64(78.29936055341297)},\n",
       " 'Canada_EN': {'mean_perp': np.float64(6.10461775602794),\n",
       "  'min_perp': np.float64(3.640257477591793),\n",
       "  'max_perp': np.float64(15.974294474869971)},\n",
       " 'Canada_Quebec': {'mean_perp': np.float64(14.416033764214424),\n",
       "  'min_perp': np.float64(3.289011826490955),\n",
       "  'max_perp': np.float64(106.71901946741548)},\n",
       " 'Germania': {'mean_perp': np.float64(4.79995380168876),\n",
       "  'min_perp': np.float64(2.8254554876888793),\n",
       "  'max_perp': np.float64(8.517557826353205)},\n",
       " 'Italia': {'mean_perp': np.float64(4.602867946653826),\n",
       "  'min_perp': np.float64(3.713100924816009),\n",
       "  'max_perp': np.float64(8.263197654640836)},\n",
       " 'UK': {'mean_perp': np.float64(4.844504221205229),\n",
       "  'min_perp': np.float64(2.818267801107649),\n",
       "  'max_perp': np.float64(9.973932289153034)},\n",
       " 'Spania': {'mean_perp': np.float64(4.554555448280531),\n",
       "  'min_perp': np.float64(1.652285886153308),\n",
       "  'max_perp': np.float64(9.538636872340566)},\n",
       " 'Serbia': {'mean_perp': np.float64(4.871791589160452),\n",
       "  'min_perp': np.float64(2.7610457497192575),\n",
       "  'max_perp': np.float64(10.423307943620529)},\n",
       " 'Ucraina': {'mean_perp': np.float64(4.365134297177108),\n",
       "  'min_perp': np.float64(2.0679613664278373),\n",
       "  'max_perp': np.float64(9.392932746523122)},\n",
       " 'Balti': {'mean_perp': np.float64(6.926859491296731),\n",
       "  'min_perp': np.float64(3.000568384022151),\n",
       "  'max_perp': np.float64(24.37501066722478)},\n",
       " 'Cahul': {'mean_perp': np.float64(4.26175723327295),\n",
       "  'min_perp': np.float64(2.5008960887829508),\n",
       "  'max_perp': np.float64(12.410906820889801)},\n",
       " 'Calarasi': {'mean_perp': np.float64(4.120384450995313),\n",
       "  'min_perp': np.float64(2.331438863067019),\n",
       "  'max_perp': np.float64(7.533074976283107)},\n",
       " 'Causeni': {'mean_perp': np.float64(4.316042236390627),\n",
       "  'min_perp': np.float64(2.5022780050771294),\n",
       "  'max_perp': np.float64(17.62324180319626)},\n",
       " 'Comrat': {'mean_perp': np.float64(10.13435202377364),\n",
       "  'min_perp': np.float64(10.13435202377364),\n",
       "  'max_perp': np.float64(10.13435202377364)},\n",
       " 'Criuleni': {'mean_perp': np.float64(5.012883960685141),\n",
       "  'min_perp': np.float64(1.6973006642056296),\n",
       "  'max_perp': np.float64(12.199145399199105)},\n",
       " 'Hincesti': {'mean_perp': np.float64(10.089000487730104),\n",
       "  'min_perp': np.float64(3.379828389650049),\n",
       "  'max_perp': np.float64(10.442114808681687)},\n",
       " 'Ialoveni': {'mean_perp': np.float64(4.359020759623211),\n",
       "  'min_perp': np.float64(2.147713313076106),\n",
       "  'max_perp': np.float64(11.37697425632561)},\n",
       " 'Orhei': {'mean_perp': np.float64(4.380328887050174),\n",
       "  'min_perp': np.float64(2.3415090780104295),\n",
       "  'max_perp': np.float64(8.558930826055501)},\n",
       " 'Sangerei': {'mean_perp': np.float64(6.155892868184607),\n",
       "  'min_perp': np.float64(1.9752819549614802),\n",
       "  'max_perp': np.float64(12.741439670849255)},\n",
       " 'Soroca': {'mean_perp': np.float64(4.357506319914577),\n",
       "  'min_perp': np.float64(1.9931109891797623),\n",
       "  'max_perp': np.float64(11.75679679836654)},\n",
       " 'Ungheni': {'mean_perp': np.float64(4.173540185081195),\n",
       "  'min_perp': np.float64(2.061593466747166),\n",
       "  'max_perp': np.float64(10.034755248173393)},\n",
       " 'Overall': {'mean_perp': np.float64(5.409871302496409),\n",
       "  'min_perp': np.float64(1.0992057050863138),\n",
       "  'max_perp': np.float64(106.71901946741548)}}"
      ]
     },
     "execution_count": 39,
     "metadata": {},
     "output_type": "execute_result"
    }
   ],
   "source": [
    "stats_content = {}\n",
    "for region in data_all:\n",
    "    mean_perp = np.array(data_all[region][0]['content']['perplexity'])\n",
    "    mean_perp = mean_perp[mean_perp > 0].mean()\n",
    "    min_perp = np.array(data_all[region][0]['content']['perplexity'])\n",
    "    min_perp = min_perp[min_perp > 0].min()\n",
    "    max_perp = np.array(data_all[region][0]['content']['perplexity']).max()\n",
    "    \n",
    "    stats_content[region] = {'mean_perp': mean_perp, 'min_perp': min_perp, 'max_perp': max_perp}\n",
    "stats_content['Overall'] = {'mean_perp': np.array([stats_content[region]['mean_perp'] for region in stats_content]).mean(), 'min_perp': np.array([stats_content[region]['min_perp'] for region in stats_content]).min(), 'max_perp': np.array([stats_content[region]['max_perp'] for region in stats_content]).max()}\n",
    "stats_content"
   ]
  },
  {
   "cell_type": "code",
   "execution_count": 40,
   "metadata": {},
   "outputs": [
    {
     "data": {
      "text/plain": [
       "2.286461200817807"
      ]
     },
     "execution_count": 40,
     "metadata": {},
     "output_type": "execute_result"
    }
   ],
   "source": [
    "stdev = 0\n",
    "for region in stats_content:\n",
    "    stdev += (stats_content[region]['mean_perp'] - stats_content['Overall']['mean_perp'])**2\n",
    "stdev = math.sqrt(stdev / len(stats_content))\n",
    "stdev"
   ]
  },
  {
   "cell_type": "code",
   "execution_count": 43,
   "metadata": {},
   "outputs": [
    {
     "data": {
      "text/plain": [
       "{'Ardeal': {'mean_perp': np.float64(12.685903866908196),\n",
       "  'min_perp': np.float64(2.1418063226517186),\n",
       "  'max_perp': np.float64(2844.39437283561)},\n",
       " 'Banat': {'mean_perp': np.float64(9.543667687293489),\n",
       "  'min_perp': np.float64(2.1599947241522623),\n",
       "  'max_perp': np.float64(157.41093797239418)},\n",
       " 'Bucovina': {'mean_perp': np.float64(14.824763268443926),\n",
       "  'min_perp': np.float64(2.0541553181787817),\n",
       "  'max_perp': np.float64(2026.9323943591974)},\n",
       " 'Crisana': {'mean_perp': np.float64(8.509166150511525),\n",
       "  'min_perp': np.float64(1.8469470511132973),\n",
       "  'max_perp': np.float64(603.6995550187968)},\n",
       " 'Dobrogea': {'mean_perp': np.float64(7.531526124649318),\n",
       "  'min_perp': np.float64(2.1833829895305827),\n",
       "  'max_perp': np.float64(79.56300662453403)},\n",
       " 'Maramures': {'mean_perp': np.float64(10.81200537389283),\n",
       "  'min_perp': np.float64(2.17784243329921),\n",
       "  'max_perp': np.float64(421.0006961113269)},\n",
       " 'Moldova': {'mean_perp': np.float64(18.98826646635011),\n",
       "  'min_perp': np.float64(1.8344389520632018),\n",
       "  'max_perp': np.float64(873.6345583689716)},\n",
       " 'Muntenia': {'mean_perp': np.float64(7.7689967645959666),\n",
       "  'min_perp': np.float64(1.6831877865700948),\n",
       "  'max_perp': np.float64(200.01574941740407)},\n",
       " 'Oltenia': {'mean_perp': np.float64(8.574049401073603),\n",
       "  'min_perp': np.float64(1.8946413558066804),\n",
       "  'max_perp': np.float64(622.6403226473828)},\n",
       " 'Canada_EN': {'mean_perp': np.float64(9.910187604116922),\n",
       "  'min_perp': np.float64(3.4361093666572167),\n",
       "  'max_perp': np.float64(46.55952589894645)},\n",
       " 'Canada_Quebec': {'mean_perp': np.float64(6.745259840245053),\n",
       "  'min_perp': np.float64(2.5153935277856445),\n",
       "  'max_perp': np.float64(16.757421234880855)},\n",
       " 'Germania': {'mean_perp': np.float64(13.253491672561934),\n",
       "  'min_perp': np.float64(4.972185807867006),\n",
       "  'max_perp': np.float64(54.22170726191519)},\n",
       " 'Italia': {'mean_perp': np.float64(8.564930156468606),\n",
       "  'min_perp': np.float64(4.405138737116556),\n",
       "  'max_perp': np.float64(25.745240349045652)},\n",
       " 'UK': {'mean_perp': np.float64(8.241056841446394),\n",
       "  'min_perp': np.float64(3.394493290236692),\n",
       "  'max_perp': np.float64(37.11797708914415)},\n",
       " 'Spania': {'mean_perp': np.float64(12.427862387953978),\n",
       "  'min_perp': np.float64(2.0159690376817525),\n",
       "  'max_perp': np.float64(83.93256313724439)},\n",
       " 'Serbia': {'mean_perp': np.float64(13.515318602468675),\n",
       "  'min_perp': np.float64(3.2500117269319406),\n",
       "  'max_perp': np.float64(138.4037730055595)},\n",
       " 'Ucraina': {'mean_perp': np.float64(9.790529208820871),\n",
       "  'min_perp': np.float64(2.8652465020248226),\n",
       "  'max_perp': np.float64(50.10780089713166)},\n",
       " 'Balti': {'mean_perp': np.float64(7.710576950067667),\n",
       "  'min_perp': np.float64(3.000568384022151),\n",
       "  'max_perp': np.float64(35.0280025268156)},\n",
       " 'Cahul': {'mean_perp': np.float64(10.065500010978324),\n",
       "  'min_perp': np.float64(2.944762171388449),\n",
       "  'max_perp': np.float64(254.0911405400889)},\n",
       " 'Calarasi': {'mean_perp': np.float64(6.372812886157666),\n",
       "  'min_perp': np.float64(2.6881394022296723),\n",
       "  'max_perp': np.float64(36.47145721756595)},\n",
       " 'Causeni': {'mean_perp': np.float64(9.097464738958722),\n",
       "  'min_perp': np.float64(2.4653520838241603),\n",
       "  'max_perp': np.float64(58.03269426882204)},\n",
       " 'Comrat': {'mean_perp': np.float64(9.154125462823984),\n",
       "  'min_perp': np.float64(2.965971324325327),\n",
       "  'max_perp': np.float64(60.7264594872854)},\n",
       " 'Criuleni': {'mean_perp': np.float64(13.45468385538061),\n",
       "  'min_perp': np.float64(2.6335464464968985),\n",
       "  'max_perp': np.float64(92.78751195716858)},\n",
       " 'Hincesti': {'mean_perp': np.float64(10.212734494998973),\n",
       "  'min_perp': np.float64(4.064526033056685),\n",
       "  'max_perp': np.float64(65.16163157291639)},\n",
       " 'Ialoveni': {'mean_perp': np.float64(7.573397629239978),\n",
       "  'min_perp': np.float64(2.4415485372984875),\n",
       "  'max_perp': np.float64(53.96433957018218)},\n",
       " 'Orhei': {'mean_perp': np.float64(8.09677249880725),\n",
       "  'min_perp': np.float64(2.609143445135893),\n",
       "  'max_perp': np.float64(161.80832080890968)},\n",
       " 'Sangerei': {'mean_perp': np.float64(11.51879632356132),\n",
       "  'min_perp': np.float64(2.57869666435959),\n",
       "  'max_perp': np.float64(51.780585695620054)},\n",
       " 'Soroca': {'mean_perp': np.float64(9.110414076200312),\n",
       "  'min_perp': np.float64(2.7676714219546232),\n",
       "  'max_perp': np.float64(70.45968100619693)},\n",
       " 'Ungheni': {'mean_perp': np.float64(7.831767854505492),\n",
       "  'min_perp': np.float64(2.40272321952244),\n",
       "  'max_perp': np.float64(74.57396263780004)},\n",
       " 'Overall': {'mean_perp': np.float64(10.065035455154542),\n",
       "  'min_perp': np.float64(1.6831877865700948),\n",
       "  'max_perp': np.float64(2844.39437283561)}}"
      ]
     },
     "execution_count": 43,
     "metadata": {},
     "output_type": "execute_result"
    }
   ],
   "source": [
    "stats_content = {}\n",
    "for region in data_all:\n",
    "    mean_perp = np.array(data_all[region][0]['titles']['perplexity'])\n",
    "    mean_perp = mean_perp[mean_perp > 0].mean()\n",
    "    min_perp = np.array(data_all[region][0]['titles']['perplexity'])\n",
    "    min_perp = min_perp[min_perp > 0].min()\n",
    "    max_perp = np.array(data_all[region][0]['titles']['perplexity']).max()\n",
    "    \n",
    "    stats_content[region] = {'mean_perp': mean_perp, 'min_perp': min_perp, 'max_perp': max_perp}\n",
    "stats_content['Overall'] = {'mean_perp': np.array([stats_content[region]['mean_perp'] for region in stats_content]).mean(), 'min_perp': np.array([stats_content[region]['min_perp'] for region in stats_content]).min(), 'max_perp': np.array([stats_content[region]['max_perp'] for region in stats_content]).max()}\n",
    "stats_content"
   ]
  },
  {
   "cell_type": "code",
   "execution_count": 44,
   "metadata": {},
   "outputs": [
    {
     "data": {
      "text/plain": [
       "2.7154565883273016"
      ]
     },
     "execution_count": 44,
     "metadata": {},
     "output_type": "execute_result"
    }
   ],
   "source": [
    "stdev = 0\n",
    "for region in stats_content:\n",
    "    stdev += (stats_content[region]['mean_perp'] - stats_content['Overall']['mean_perp'])**2\n",
    "stdev = math.sqrt(stdev / len(stats_content))\n",
    "stdev"
   ]
  }
 ],
 "metadata": {
  "kernelspec": {
   "display_name": "venv",
   "language": "python",
   "name": "python3"
  },
  "language_info": {
   "codemirror_mode": {
    "name": "ipython",
    "version": 3
   },
   "file_extension": ".py",
   "mimetype": "text/x-python",
   "name": "python",
   "nbconvert_exporter": "python",
   "pygments_lexer": "ipython3",
   "version": "3.10.12"
  }
 },
 "nbformat": 4,
 "nbformat_minor": 2
}
