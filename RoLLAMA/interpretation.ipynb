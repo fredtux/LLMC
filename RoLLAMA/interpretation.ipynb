{
 "cells": [
  {
   "cell_type": "code",
   "execution_count": 56,
   "metadata": {},
   "outputs": [],
   "source": [
    "import json\n",
    "import math\n",
    "import numpy as np"
   ]
  },
  {
   "cell_type": "code",
   "execution_count": 96,
   "metadata": {},
   "outputs": [],
   "source": [
    "def clean_nans(data: dict) -> dict:\n",
    "    for region_key in data:\n",
    "        region = data[region_key][0]\n",
    "        \n",
    "        # neg_log_sum = 0\n",
    "        \n",
    "        # Content\n",
    "        for content_key in region['content']:\n",
    "            for i in range(len(region['content'][content_key])):\n",
    "                if math.isnan(region['content'][content_key][i]):\n",
    "                    data[region_key][0]['content'][content_key][i] = 0\n",
    "                    \n",
    "        # Titles\n",
    "        for title_key in region['titles']:\n",
    "            for i in range(len(region['titles'][title_key])):\n",
    "                if math.isnan(region['titles'][title_key][i]):\n",
    "                    data[region_key][0]['titles'][title_key][i] = 0\n",
    "                    # neg_log_sum += 0\n",
    "                # else:\n",
    "                    # neg_log_sum += region['titles'][title_key][i]\n",
    "                    \n",
    "        if math.isnan(data[region_key][0]['perp_mean_content']):\n",
    "            data[region_key][0]['perp_mean_content'] = math.exp(np.array(region['content']['neg_log_likelihood']).mean())\n",
    "        if math.isnan(data[region_key][0]['perp_mean_titles']):\n",
    "            data[region_key][0]['perp_mean_titles'] = math.exp(np.array(region['titles']['neg_log_likelihood']).mean())\n",
    "            \n",
    "    return data"
   ]
  },
  {
   "cell_type": "code",
   "execution_count": 98,
   "metadata": {},
   "outputs": [
    {
     "data": {
      "text/plain": [
       "21.04225534706127"
      ]
     },
     "execution_count": 98,
     "metadata": {},
     "output_type": "execute_result"
    }
   ],
   "source": [
    "# data_rest['Moldova'][0]['titles']['neg_log_likelihood']\n",
    "# data_rest['Moldova'][0]['perp_mean_titles']"
   ]
  },
  {
   "cell_type": "code",
   "execution_count": 105,
   "metadata": {},
   "outputs": [
    {
     "name": "stdout",
     "output_type": "stream",
     "text": [
      "dict_keys(['Ardeal', 'Banat', 'Bucovina', 'Crisana', 'Dobrogea', 'Maramures', 'Moldova', 'Muntenia', 'Oltenia'])\n",
      "dict_keys(['Canada_EN', 'Canada_Quebec', 'Germania', 'Italia', 'UK', 'Spania'])\n",
      "dict_keys(['Serbia', 'Ucraina'])\n",
      "dict_keys(['Ardeal', 'Banat', 'Bucovina', 'Canada_EN', 'Canada_Quebec', 'Crisana', 'Dobrogea', 'Germania', 'Italia', 'Maramures', 'Moldova', 'Muntenia', 'Oltenia', 'Serbia', 'Spania', 'Ucraina', 'UK'])\n"
     ]
    }
   ],
   "source": [
    "with open(\"results_regions_qlora_rest.json\") as f:\n",
    "    data_rest = json.load(f)\n",
    "data_rest = clean_nans(data_rest)\n",
    "    \n",
    "    \n",
    "data_ro = data_rest.copy()\n",
    "data_ro = clean_nans(data_ro)\n",
    "\n",
    "data_int = {\"Canada_EN\": [], \"Canada_Quebec\": [], \"Germania\": [], \"Italia\": [], \"UK\": [], \"Spania\": []}\n",
    "data_int_ist = {\"Serbia\": [], \"Ucraina\": []}\n",
    "\n",
    "for key in data_int:\n",
    "    data_int[key] = data_ro[key]\n",
    "    data_ro.pop(key)\n",
    "    \n",
    "for key in data_int_ist:\n",
    "    data_int_ist[key] = data_ro[key]\n",
    "    data_ro.pop(key)\n",
    "    \n",
    "print(data_ro.keys())\n",
    "print(data_int.keys())\n",
    "print(data_int_ist.keys())\n",
    "\n",
    "print(data_rest.keys())\n"
   ]
  },
  {
   "cell_type": "code",
   "execution_count": 69,
   "metadata": {},
   "outputs": [
    {
     "name": "stdout",
     "output_type": "stream",
     "text": [
      "dict_keys(['Balti', 'Cahul', 'Calarasi', 'Causeni', 'Comrat', 'Criuleni', 'Hincesti', 'Ialoveni', 'Orhei', 'Sangerei', 'Soroca', 'Ungheni'])\n"
     ]
    }
   ],
   "source": [
    "with open(\"results_regions_qlora_md.json\") as f:\n",
    "    data_md = json.load(f)\n",
    "\n",
    "data_md = clean_nans(data_md)\n",
    "\n",
    "print(data_md.keys())"
   ]
  },
  {
   "cell_type": "code",
   "execution_count": 106,
   "metadata": {},
   "outputs": [],
   "source": [
    "data_all = {**data_ro, **data_int, **data_int_ist, **data_md}"
   ]
  },
  {
   "cell_type": "code",
   "execution_count": 76,
   "metadata": {},
   "outputs": [
    {
     "data": {
      "text/plain": [
       "dict_keys(['content', 'titles', 'perp_mean_content', 'perp_mean_titles'])"
      ]
     },
     "execution_count": 76,
     "metadata": {},
     "output_type": "execute_result"
    }
   ],
   "source": [
    "data_all['Ardeal'][0].keys()"
   ]
  },
  {
   "cell_type": "code",
   "execution_count": 107,
   "metadata": {},
   "outputs": [
    {
     "data": {
      "text/plain": [
       "{'Ardeal': {'perp_mean_content': 5.751458664448664,\n",
       "  'perp_mean_titles': 19.469325917975933},\n",
       " 'Banat': {'perp_mean_content': 5.753388123351686,\n",
       "  'perp_mean_titles': 25.670908271072946},\n",
       " 'Bucovina': {'perp_mean_content': 5.769342613491103,\n",
       "  'perp_mean_titles': 23.16982716342716},\n",
       " 'Crisana': {'perp_mean_content': 4.871670708658944,\n",
       "  'perp_mean_titles': 19.832449963704747},\n",
       " 'Dobrogea': {'perp_mean_content': 5.747985444347711,\n",
       "  'perp_mean_titles': 23.180526442663353},\n",
       " 'Maramures': {'perp_mean_content': 13.421830254469933,\n",
       "  'perp_mean_titles': 25.992916183051396},\n",
       " 'Moldova': {'perp_mean_content': 5.675965732441846,\n",
       "  'perp_mean_titles': 21.04225534706127},\n",
       " 'Muntenia': {'perp_mean_content': 5.444595038042894,\n",
       "  'perp_mean_titles': 21.52940025087017},\n",
       " 'Oltenia': {'perp_mean_content': 5.188908686969207,\n",
       "  'perp_mean_titles': 25.397589315014734},\n",
       " 'Canada_EN': {'perp_mean_content': 8.21525492834543,\n",
       "  'perp_mean_titles': 52.29616743236795},\n",
       " 'Canada_Quebec': {'perp_mean_content': 10.143759484599345,\n",
       "  'perp_mean_titles': 16.18879653735022},\n",
       " 'Germania': {'perp_mean_content': 5.698722855357119,\n",
       "  'perp_mean_titles': 50.447757980097016},\n",
       " 'Italia': {'perp_mean_content': 5.736000476039346,\n",
       "  'perp_mean_titles': 15.089274619587318},\n",
       " 'UK': {'perp_mean_content': 5.275529231506267,\n",
       "  'perp_mean_titles': 41.0789956906958},\n",
       " 'Spania': {'perp_mean_content': 5.590222862917776,\n",
       "  'perp_mean_titles': 32.55872785279452},\n",
       " 'Serbia': {'perp_mean_content': 5.910033419249699,\n",
       "  'perp_mean_titles': 38.88980865413311},\n",
       " 'Ucraina': {'perp_mean_content': 4.908732967510326,\n",
       "  'perp_mean_titles': 25.652122605246994},\n",
       " 'Balti': {'perp_mean_content': 12.215739777970464,\n",
       "  'perp_mean_titles': 14.529845790701472},\n",
       " 'Cahul': {'perp_mean_content': 5.195794975902112,\n",
       "  'perp_mean_titles': 20.166223523219767},\n",
       " 'Calarasi': {'perp_mean_content': 5.450399099874605,\n",
       "  'perp_mean_titles': 13.834963795748166},\n",
       " 'Causeni': {'perp_mean_content': 5.59575673812383,\n",
       "  'perp_mean_titles': 18.85432291513904},\n",
       " 'Comrat': {'perp_mean_content': 1.0127063458927361,\n",
       "  'perp_mean_titles': 20.687583745212184},\n",
       " 'Criuleni': {'perp_mean_content': 6.59403945005169,\n",
       "  'perp_mean_titles': 29.731714095214443},\n",
       " 'Hincesti': {'perp_mean_content': 7.785259888660579,\n",
       "  'perp_mean_titles': 24.538667454536057},\n",
       " 'Ialoveni': {'perp_mean_content': 5.511339569281896,\n",
       "  'perp_mean_titles': 17.293080409648322},\n",
       " 'Orhei': {'perp_mean_content': 5.936147769000515,\n",
       "  'perp_mean_titles': 17.42870360204244},\n",
       " 'Sangerei': {'perp_mean_content': 8.13447624428399,\n",
       "  'perp_mean_titles': 41.61370956692085},\n",
       " 'Soroca': {'perp_mean_content': 6.335093907494515,\n",
       "  'perp_mean_titles': 19.677706888274706},\n",
       " 'Ungheni': {'perp_mean_content': 5.4114761675257705,\n",
       "  'perp_mean_titles': 18.093500091194446}}"
      ]
     },
     "execution_count": 107,
     "metadata": {},
     "output_type": "execute_result"
    }
   ],
   "source": [
    "perps = {}\n",
    "\n",
    "for region in data_all:\n",
    "    perps[region] = {'perp_mean_content': data_all[region][0]['perp_mean_content'], 'perp_mean_titles': data_all[region][0]['perp_mean_titles']}\n",
    "perps"
   ]
  },
  {
   "cell_type": "code",
   "execution_count": 111,
   "metadata": {},
   "outputs": [
    {
     "name": "stdout",
     "output_type": "stream",
     "text": [
      "Maramures {'perp_mean_content': 13.421830254469933, 'perp_mean_titles': 25.992916183051396}\n",
      "Canada_EN {'perp_mean_content': 8.21525492834543, 'perp_mean_titles': 52.29616743236795}\n",
      "Comrat {'perp_mean_content': 1.0127063458927361, 'perp_mean_titles': 20.687583745212184}\n",
      "Calarasi {'perp_mean_content': 5.450399099874605, 'perp_mean_titles': 13.834963795748166}\n",
      "6.354539014683104\n",
      "25.308168003619535\n"
     ]
    }
   ],
   "source": [
    "max_perp_mean_content = max(perps, key=lambda x: perps[x]['perp_mean_content'])\n",
    "\n",
    "max_perp_mean_titles = max(perps, key=lambda x: perps[x]['perp_mean_titles'])\n",
    "\n",
    "min_perp_mean_content = min(perps, key=lambda x: perps[x]['perp_mean_content'])\n",
    "\n",
    "min_perp_mean_titles = min(perps, key=lambda x: perps[x]['perp_mean_titles'])\n",
    "\n",
    "mean_perp_mean_content = np.array([perps[region]['perp_mean_content'] for region in perps]).mean()\n",
    "\n",
    "mean_perp_mean_titles = np.array([perps[region]['perp_mean_titles'] for region in perps]).mean()\n",
    "\n",
    "print(max_perp_mean_content, perps[max_perp_mean_content])\n",
    "print(max_perp_mean_titles, perps[max_perp_mean_titles])\n",
    "print(min_perp_mean_content, perps[min_perp_mean_content])\n",
    "print(min_perp_mean_titles, perps[min_perp_mean_titles])\n",
    "print(mean_perp_mean_content)\n",
    "print(mean_perp_mean_titles)"
   ]
  },
  {
   "cell_type": "code",
   "execution_count": 119,
   "metadata": {},
   "outputs": [
    {
     "data": {
      "text/plain": [
       "{'Ardeal': {'perp_mean_content': 5.751458664448664,\n",
       "  'perp_mean_titles': 19.469325917975933},\n",
       " 'Banat': {'perp_mean_content': 5.753388123351686,\n",
       "  'perp_mean_titles': 25.670908271072946},\n",
       " 'Bucovina': {'perp_mean_content': 5.769342613491103,\n",
       "  'perp_mean_titles': 23.16982716342716},\n",
       " 'Crisana': {'perp_mean_content': 4.871670708658944,\n",
       "  'perp_mean_titles': 19.832449963704747},\n",
       " 'Dobrogea': {'perp_mean_content': 5.747985444347711,\n",
       "  'perp_mean_titles': 23.180526442663353},\n",
       " 'Maramures': {'perp_mean_content': 13.421830254469933,\n",
       "  'perp_mean_titles': 25.992916183051396},\n",
       " 'Moldova': {'perp_mean_content': 5.675965732441846,\n",
       "  'perp_mean_titles': 21.04225534706127},\n",
       " 'Muntenia': {'perp_mean_content': 5.444595038042894,\n",
       "  'perp_mean_titles': 21.52940025087017},\n",
       " 'Oltenia': {'perp_mean_content': 5.188908686969207,\n",
       "  'perp_mean_titles': 25.397589315014734}}"
      ]
     },
     "execution_count": 119,
     "metadata": {},
     "output_type": "execute_result"
    }
   ],
   "source": [
    "perps_ro = {}\n",
    "\n",
    "for region in data_ro:\n",
    "    perps_ro[region] = {'perp_mean_content': data_ro[region][0]['perp_mean_content'], 'perp_mean_titles': data_ro[region][0]['perp_mean_titles']}\n",
    "perps_ro"
   ]
  },
  {
   "cell_type": "code",
   "execution_count": 120,
   "metadata": {},
   "outputs": [
    {
     "name": "stdout",
     "output_type": "stream",
     "text": [
      "Maramures {'perp_mean_content': 13.421830254469933, 'perp_mean_titles': 25.992916183051396}\n",
      "Maramures {'perp_mean_content': 13.421830254469933, 'perp_mean_titles': 25.992916183051396}\n",
      "Crisana {'perp_mean_content': 4.871670708658944, 'perp_mean_titles': 19.832449963704747}\n",
      "Ardeal {'perp_mean_content': 5.751458664448664, 'perp_mean_titles': 19.469325917975933}\n",
      "6.40279391846911\n",
      "22.809466539426854\n"
     ]
    }
   ],
   "source": [
    "max_perp_mean_content = max(perps_ro, key=lambda x: perps_ro[x]['perp_mean_content'])\n",
    "\n",
    "max_perp_mean_titles = max(perps_ro, key=lambda x: perps_ro[x]['perp_mean_titles'])\n",
    "\n",
    "min_perp_mean_content = min(perps_ro, key=lambda x: perps_ro[x]['perp_mean_content'])\n",
    "\n",
    "min_perp_mean_titles = min(perps_ro, key=lambda x: perps_ro[x]['perp_mean_titles'])\n",
    "\n",
    "mean_perp_mean_content = np.array([perps_ro[region]['perp_mean_content'] for region in perps_ro]).mean()\n",
    "\n",
    "mean_perp_mean_titles = np.array([perps_ro[region]['perp_mean_titles'] for region in perps_ro]).mean()\n",
    "\n",
    "print(max_perp_mean_content, perps_ro[max_perp_mean_content])\n",
    "print(max_perp_mean_titles, perps_ro[max_perp_mean_titles])\n",
    "print(min_perp_mean_content, perps_ro[min_perp_mean_content])\n",
    "print(min_perp_mean_titles, perps_ro[min_perp_mean_titles])\n",
    "print(mean_perp_mean_content)\n",
    "print(mean_perp_mean_titles)"
   ]
  },
  {
   "cell_type": "code",
   "execution_count": 126,
   "metadata": {},
   "outputs": [
    {
     "data": {
      "text/plain": [
       "{'Balti': {'perp_mean_content': 12.215739777970464,\n",
       "  'perp_mean_titles': 14.529845790701472},\n",
       " 'Cahul': {'perp_mean_content': 5.195794975902112,\n",
       "  'perp_mean_titles': 20.166223523219767},\n",
       " 'Calarasi': {'perp_mean_content': 5.450399099874605,\n",
       "  'perp_mean_titles': 13.834963795748166},\n",
       " 'Causeni': {'perp_mean_content': 5.59575673812383,\n",
       "  'perp_mean_titles': 18.85432291513904},\n",
       " 'Comrat': {'perp_mean_content': 1.0127063458927361,\n",
       "  'perp_mean_titles': 20.687583745212184},\n",
       " 'Criuleni': {'perp_mean_content': 6.59403945005169,\n",
       "  'perp_mean_titles': 29.731714095214443},\n",
       " 'Hincesti': {'perp_mean_content': 7.785259888660579,\n",
       "  'perp_mean_titles': 24.538667454536057},\n",
       " 'Ialoveni': {'perp_mean_content': 5.511339569281896,\n",
       "  'perp_mean_titles': 17.293080409648322},\n",
       " 'Orhei': {'perp_mean_content': 5.936147769000515,\n",
       "  'perp_mean_titles': 17.42870360204244},\n",
       " 'Sangerei': {'perp_mean_content': 8.13447624428399,\n",
       "  'perp_mean_titles': 41.61370956692085},\n",
       " 'Soroca': {'perp_mean_content': 6.335093907494515,\n",
       "  'perp_mean_titles': 19.677706888274706},\n",
       " 'Ungheni': {'perp_mean_content': 5.4114761675257705,\n",
       "  'perp_mean_titles': 18.093500091194446}}"
      ]
     },
     "execution_count": 126,
     "metadata": {},
     "output_type": "execute_result"
    }
   ],
   "source": [
    "perps_md = {}\n",
    "\n",
    "for region in data_md:\n",
    "    perps_md[region] = {'perp_mean_content': data_md[region][0]['perp_mean_content'], 'perp_mean_titles': data_md[region][0]['perp_mean_titles']}\n",
    "perps_md"
   ]
  },
  {
   "cell_type": "code",
   "execution_count": 127,
   "metadata": {},
   "outputs": [
    {
     "name": "stdout",
     "output_type": "stream",
     "text": [
      "Balti {'perp_mean_content': 12.215739777970464, 'perp_mean_titles': 14.529845790701472}\n",
      "Sangerei {'perp_mean_content': 8.13447624428399, 'perp_mean_titles': 41.61370956692085}\n",
      "Comrat {'perp_mean_content': 1.0127063458927361, 'perp_mean_titles': 20.687583745212184}\n",
      "Calarasi {'perp_mean_content': 5.450399099874605, 'perp_mean_titles': 13.834963795748166}\n",
      "6.264852494505225\n",
      "21.370835156487658\n"
     ]
    }
   ],
   "source": [
    "max_perp_mean_content = max(perps_md, key=lambda x: perps_md[x]['perp_mean_content'])\n",
    "\n",
    "max_perp_mean_titles = max(perps_md, key=lambda x: perps_md[x]['perp_mean_titles'])\n",
    "\n",
    "min_perp_mean_content = min(perps_md, key=lambda x: perps_md[x]['perp_mean_content'])\n",
    "\n",
    "min_perp_mean_titles = min(perps_md, key=lambda x: perps_md[x]['perp_mean_titles'])\n",
    "\n",
    "mean_perp_mean_content = np.array([perps_md[region]['perp_mean_content'] for region in perps_md]).mean()\n",
    "\n",
    "mean_perp_mean_titles = np.array([perps_md[region]['perp_mean_titles'] for region in perps_md]).mean()\n",
    "\n",
    "print(max_perp_mean_content, perps_md[max_perp_mean_content])\n",
    "print(max_perp_mean_titles, perps_md[max_perp_mean_titles])\n",
    "print(min_perp_mean_content, perps_md[min_perp_mean_content])\n",
    "print(min_perp_mean_titles, perps_md[min_perp_mean_titles])\n",
    "print(mean_perp_mean_content)\n",
    "print(mean_perp_mean_titles)"
   ]
  },
  {
   "cell_type": "code",
   "execution_count": 123,
   "metadata": {},
   "outputs": [
    {
     "data": {
      "text/plain": [
       "{'Canada_EN': {'perp_mean_content': 8.21525492834543,\n",
       "  'perp_mean_titles': 52.29616743236795},\n",
       " 'Canada_Quebec': {'perp_mean_content': 10.143759484599345,\n",
       "  'perp_mean_titles': 16.18879653735022},\n",
       " 'Germania': {'perp_mean_content': 5.698722855357119,\n",
       "  'perp_mean_titles': 50.447757980097016},\n",
       " 'Italia': {'perp_mean_content': 5.736000476039346,\n",
       "  'perp_mean_titles': 15.089274619587318},\n",
       " 'UK': {'perp_mean_content': 5.275529231506267,\n",
       "  'perp_mean_titles': 41.0789956906958},\n",
       " 'Spania': {'perp_mean_content': 5.590222862917776,\n",
       "  'perp_mean_titles': 32.55872785279452}}"
      ]
     },
     "execution_count": 123,
     "metadata": {},
     "output_type": "execute_result"
    }
   ],
   "source": [
    "perps_int = {}\n",
    "\n",
    "for region in data_int:\n",
    "    perps_int[region] = {'perp_mean_content': data_int[region][0]['perp_mean_content'], 'perp_mean_titles': data_int[region][0]['perp_mean_titles']}\n",
    "perps_int"
   ]
  },
  {
   "cell_type": "code",
   "execution_count": 124,
   "metadata": {},
   "outputs": [
    {
     "name": "stdout",
     "output_type": "stream",
     "text": [
      "Canada_Quebec {'perp_mean_content': 10.143759484599345, 'perp_mean_titles': 16.18879653735022}\n",
      "Canada_EN {'perp_mean_content': 8.21525492834543, 'perp_mean_titles': 52.29616743236795}\n",
      "UK {'perp_mean_content': 5.275529231506267, 'perp_mean_titles': 41.0789956906958}\n",
      "Italia {'perp_mean_content': 5.736000476039346, 'perp_mean_titles': 15.089274619587318}\n",
      "6.776581639794213\n",
      "34.6099533521488\n"
     ]
    }
   ],
   "source": [
    "max_perp_mean_content = max(perps_int, key=lambda x: perps_int[x]['perp_mean_content'])\n",
    "\n",
    "max_perp_mean_titles = max(perps_int, key=lambda x: perps_int[x]['perp_mean_titles'])\n",
    "\n",
    "min_perp_mean_content = min(perps_int, key=lambda x: perps_int[x]['perp_mean_content'])\n",
    "\n",
    "min_perp_mean_titles = min(perps_int, key=lambda x: perps_int[x]['perp_mean_titles'])\n",
    "\n",
    "mean_perp_mean_content = np.array([perps_int[region]['perp_mean_content'] for region in perps_int]).mean()\n",
    "\n",
    "mean_perp_mean_titles = np.array([perps_int[region]['perp_mean_titles'] for region in perps_int]).mean()\n",
    "\n",
    "print(max_perp_mean_content, perps_int[max_perp_mean_content])\n",
    "print(max_perp_mean_titles, perps_int[max_perp_mean_titles])\n",
    "print(min_perp_mean_content, perps_int[min_perp_mean_content])\n",
    "print(min_perp_mean_titles, perps_int[min_perp_mean_titles])\n",
    "print(mean_perp_mean_content)\n",
    "print(mean_perp_mean_titles)"
   ]
  },
  {
   "cell_type": "code",
   "execution_count": 125,
   "metadata": {},
   "outputs": [
    {
     "data": {
      "text/plain": [
       "{'Serbia': {'perp_mean_content': 5.910033419249699,\n",
       "  'perp_mean_titles': 38.88980865413311},\n",
       " 'Ucraina': {'perp_mean_content': 4.908732967510326,\n",
       "  'perp_mean_titles': 25.652122605246994}}"
      ]
     },
     "execution_count": 125,
     "metadata": {},
     "output_type": "execute_result"
    }
   ],
   "source": [
    "perps_int_ist = {}\n",
    "\n",
    "for region in data_int_ist:\n",
    "    perps_int_ist[region] = {'perp_mean_content': data_int_ist[region][0]['perp_mean_content'], 'perp_mean_titles': data_int_ist[region][0]['perp_mean_titles']}\n",
    "perps_int_ist"
   ]
  }
 ],
 "metadata": {
  "kernelspec": {
   "display_name": "venv",
   "language": "python",
   "name": "python3"
  },
  "language_info": {
   "codemirror_mode": {
    "name": "ipython",
    "version": 3
   },
   "file_extension": ".py",
   "mimetype": "text/x-python",
   "name": "python",
   "nbconvert_exporter": "python",
   "pygments_lexer": "ipython3",
   "version": "3.10.12"
  }
 },
 "nbformat": 4,
 "nbformat_minor": 2
}
