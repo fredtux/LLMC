{
 "cells": [
  {
   "cell_type": "code",
   "execution_count": 1,
   "metadata": {},
   "outputs": [],
   "source": [
    "import json\n",
    "import math\n",
    "import numpy as np"
   ]
  },
  {
   "cell_type": "code",
   "execution_count": 2,
   "metadata": {},
   "outputs": [],
   "source": [
    "def clean_nans(data: dict) -> dict:\n",
    "    for region_key in data:\n",
    "        region = data[region_key][0]\n",
    "        \n",
    "        # neg_log_sum = 0\n",
    "        \n",
    "        # Content\n",
    "        for content_key in region['content']:\n",
    "            for i in range(len(region['content'][content_key])):\n",
    "                if math.isnan(region['content'][content_key][i]):\n",
    "                    data[region_key][0]['content'][content_key][i] = 0\n",
    "                    \n",
    "        # Titles\n",
    "        for title_key in region['titles']:\n",
    "            for i in range(len(region['titles'][title_key])):\n",
    "                if math.isnan(region['titles'][title_key][i]):\n",
    "                    data[region_key][0]['titles'][title_key][i] = 0\n",
    "                    # neg_log_sum += 0\n",
    "                # else:\n",
    "                    # neg_log_sum += region['titles'][title_key][i]\n",
    "                    \n",
    "        if math.isnan(data[region_key][0]['perp_mean_content']):\n",
    "            data[region_key][0]['perp_mean_content'] = math.exp(np.array(region['content']['neg_log_likelihood']).mean())\n",
    "        if math.isnan(data[region_key][0]['perp_mean_titles']):\n",
    "            data[region_key][0]['perp_mean_titles'] = math.exp(np.array(region['titles']['neg_log_likelihood']).mean())\n",
    "            \n",
    "    return data"
   ]
  },
  {
   "cell_type": "code",
   "execution_count": 3,
   "metadata": {},
   "outputs": [],
   "source": [
    "# data_rest['Moldova'][0]['titles']['neg_log_likelihood']\n",
    "# data_rest['Moldova'][0]['perp_mean_titles']"
   ]
  },
  {
   "cell_type": "code",
   "execution_count": 4,
   "metadata": {},
   "outputs": [
    {
     "ename": "FileNotFoundError",
     "evalue": "[Errno 2] No such file or directory: 'results_regions_qlora_rest.json'",
     "output_type": "error",
     "traceback": [
      "\u001b[0;31m---------------------------------------------------------------------------\u001b[0m",
      "\u001b[0;31mFileNotFoundError\u001b[0m                         Traceback (most recent call last)",
      "Cell \u001b[0;32mIn[4], line 1\u001b[0m\n\u001b[0;32m----> 1\u001b[0m \u001b[38;5;28;01mwith\u001b[39;00m \u001b[38;5;28;43mopen\u001b[39;49m\u001b[43m(\u001b[49m\u001b[38;5;124;43m\"\u001b[39;49m\u001b[38;5;124;43mresults_regions_qlora_rest.json\u001b[39;49m\u001b[38;5;124;43m\"\u001b[39;49m\u001b[43m)\u001b[49m \u001b[38;5;28;01mas\u001b[39;00m f:\n\u001b[1;32m      2\u001b[0m     data_rest \u001b[38;5;241m=\u001b[39m json\u001b[38;5;241m.\u001b[39mload(f)\n\u001b[1;32m      3\u001b[0m data_rest \u001b[38;5;241m=\u001b[39m clean_nans(data_rest)\n",
      "File \u001b[0;32m~/Desktop/Master/An1/LLMC/LLMCGit/venv/lib/python3.10/site-packages/IPython/core/interactiveshell.py:324\u001b[0m, in \u001b[0;36m_modified_open\u001b[0;34m(file, *args, **kwargs)\u001b[0m\n\u001b[1;32m    317\u001b[0m \u001b[38;5;28;01mif\u001b[39;00m file \u001b[38;5;129;01min\u001b[39;00m {\u001b[38;5;241m0\u001b[39m, \u001b[38;5;241m1\u001b[39m, \u001b[38;5;241m2\u001b[39m}:\n\u001b[1;32m    318\u001b[0m     \u001b[38;5;28;01mraise\u001b[39;00m \u001b[38;5;167;01mValueError\u001b[39;00m(\n\u001b[1;32m    319\u001b[0m         \u001b[38;5;124mf\u001b[39m\u001b[38;5;124m\"\u001b[39m\u001b[38;5;124mIPython won\u001b[39m\u001b[38;5;124m'\u001b[39m\u001b[38;5;124mt let you open fd=\u001b[39m\u001b[38;5;132;01m{\u001b[39;00mfile\u001b[38;5;132;01m}\u001b[39;00m\u001b[38;5;124m by default \u001b[39m\u001b[38;5;124m\"\u001b[39m\n\u001b[1;32m    320\u001b[0m         \u001b[38;5;124m\"\u001b[39m\u001b[38;5;124mas it is likely to crash IPython. If you know what you are doing, \u001b[39m\u001b[38;5;124m\"\u001b[39m\n\u001b[1;32m    321\u001b[0m         \u001b[38;5;124m\"\u001b[39m\u001b[38;5;124myou can use builtins\u001b[39m\u001b[38;5;124m'\u001b[39m\u001b[38;5;124m open.\u001b[39m\u001b[38;5;124m\"\u001b[39m\n\u001b[1;32m    322\u001b[0m     )\n\u001b[0;32m--> 324\u001b[0m \u001b[38;5;28;01mreturn\u001b[39;00m \u001b[43mio_open\u001b[49m\u001b[43m(\u001b[49m\u001b[43mfile\u001b[49m\u001b[43m,\u001b[49m\u001b[43m \u001b[49m\u001b[38;5;241;43m*\u001b[39;49m\u001b[43margs\u001b[49m\u001b[43m,\u001b[49m\u001b[43m \u001b[49m\u001b[38;5;241;43m*\u001b[39;49m\u001b[38;5;241;43m*\u001b[39;49m\u001b[43mkwargs\u001b[49m\u001b[43m)\u001b[49m\n",
      "\u001b[0;31mFileNotFoundError\u001b[0m: [Errno 2] No such file or directory: 'results_regions_qlora_rest.json'"
     ]
    }
   ],
   "source": [
    "with open(\"results_regions_qlora_rest.json\") as f:\n",
    "    data_rest = json.load(f)\n",
    "data_rest = clean_nans(data_rest)\n",
    "    \n",
    "    \n",
    "data_ro = data_rest.copy()\n",
    "data_ro = clean_nans(data_ro)\n",
    "\n",
    "data_int = {\"Canada_EN\": [], \"Canada_Quebec\": [], \"Germania\": [], \"Italia\": [], \"UK\": [], \"Spania\": []}\n",
    "data_int_ist = {\"Serbia\": [], \"Ucraina\": []}\n",
    "\n",
    "for key in data_int:\n",
    "    data_int[key] = data_ro[key]\n",
    "    data_ro.pop(key)\n",
    "    \n",
    "for key in data_int_ist:\n",
    "    data_int_ist[key] = data_ro[key]\n",
    "    data_ro.pop(key)\n",
    "    \n",
    "print(data_ro.keys())\n",
    "print(data_int.keys())\n",
    "print(data_int_ist.keys())\n",
    "\n",
    "print(data_rest.keys())\n"
   ]
  },
  {
   "cell_type": "code",
   "execution_count": 69,
   "metadata": {},
   "outputs": [
    {
     "name": "stdout",
     "output_type": "stream",
     "text": [
      "dict_keys(['Balti', 'Cahul', 'Calarasi', 'Causeni', 'Comrat', 'Criuleni', 'Hincesti', 'Ialoveni', 'Orhei', 'Sangerei', 'Soroca', 'Ungheni'])\n"
     ]
    }
   ],
   "source": [
    "with open(\"results_regions_qlora_md.json\") as f:\n",
    "    data_md = json.load(f)\n",
    "\n",
    "data_md = clean_nans(data_md)\n",
    "\n",
    "print(data_md.keys())"
   ]
  },
  {
   "cell_type": "code",
   "execution_count": 106,
   "metadata": {},
   "outputs": [],
   "source": [
    "data_all = {**data_ro, **data_int, **data_int_ist, **data_md}"
   ]
  },
  {
   "cell_type": "code",
   "execution_count": 76,
   "metadata": {},
   "outputs": [
    {
     "data": {
      "text/plain": [
       "dict_keys(['content', 'titles', 'perp_mean_content', 'perp_mean_titles'])"
      ]
     },
     "execution_count": 76,
     "metadata": {},
     "output_type": "execute_result"
    }
   ],
   "source": [
    "data_all['Ardeal'][0].keys()"
   ]
  },
  {
   "cell_type": "code",
   "execution_count": 107,
   "metadata": {},
   "outputs": [
    {
     "data": {
      "text/plain": [
       "{'Ardeal': {'perp_mean_content': 5.751458664448664,\n",
       "  'perp_mean_titles': 19.469325917975933},\n",
       " 'Banat': {'perp_mean_content': 5.753388123351686,\n",
       "  'perp_mean_titles': 25.670908271072946},\n",
       " 'Bucovina': {'perp_mean_content': 5.769342613491103,\n",
       "  'perp_mean_titles': 23.16982716342716},\n",
       " 'Crisana': {'perp_mean_content': 4.871670708658944,\n",
       "  'perp_mean_titles': 19.832449963704747},\n",
       " 'Dobrogea': {'perp_mean_content': 5.747985444347711,\n",
       "  'perp_mean_titles': 23.180526442663353},\n",
       " 'Maramures': {'perp_mean_content': 13.421830254469933,\n",
       "  'perp_mean_titles': 25.992916183051396},\n",
       " 'Moldova': {'perp_mean_content': 5.675965732441846,\n",
       "  'perp_mean_titles': 21.04225534706127},\n",
       " 'Muntenia': {'perp_mean_content': 5.444595038042894,\n",
       "  'perp_mean_titles': 21.52940025087017},\n",
       " 'Oltenia': {'perp_mean_content': 5.188908686969207,\n",
       "  'perp_mean_titles': 25.397589315014734},\n",
       " 'Canada_EN': {'perp_mean_content': 8.21525492834543,\n",
       "  'perp_mean_titles': 52.29616743236795},\n",
       " 'Canada_Quebec': {'perp_mean_content': 10.143759484599345,\n",
       "  'perp_mean_titles': 16.18879653735022},\n",
       " 'Germania': {'perp_mean_content': 5.698722855357119,\n",
       "  'perp_mean_titles': 50.447757980097016},\n",
       " 'Italia': {'perp_mean_content': 5.736000476039346,\n",
       "  'perp_mean_titles': 15.089274619587318},\n",
       " 'UK': {'perp_mean_content': 5.275529231506267,\n",
       "  'perp_mean_titles': 41.0789956906958},\n",
       " 'Spania': {'perp_mean_content': 5.590222862917776,\n",
       "  'perp_mean_titles': 32.55872785279452},\n",
       " 'Serbia': {'perp_mean_content': 5.910033419249699,\n",
       "  'perp_mean_titles': 38.88980865413311},\n",
       " 'Ucraina': {'perp_mean_content': 4.908732967510326,\n",
       "  'perp_mean_titles': 25.652122605246994},\n",
       " 'Balti': {'perp_mean_content': 12.215739777970464,\n",
       "  'perp_mean_titles': 14.529845790701472},\n",
       " 'Cahul': {'perp_mean_content': 5.195794975902112,\n",
       "  'perp_mean_titles': 20.166223523219767},\n",
       " 'Calarasi': {'perp_mean_content': 5.450399099874605,\n",
       "  'perp_mean_titles': 13.834963795748166},\n",
       " 'Causeni': {'perp_mean_content': 5.59575673812383,\n",
       "  'perp_mean_titles': 18.85432291513904},\n",
       " 'Comrat': {'perp_mean_content': 1.0127063458927361,\n",
       "  'perp_mean_titles': 20.687583745212184},\n",
       " 'Criuleni': {'perp_mean_content': 6.59403945005169,\n",
       "  'perp_mean_titles': 29.731714095214443},\n",
       " 'Hincesti': {'perp_mean_content': 7.785259888660579,\n",
       "  'perp_mean_titles': 24.538667454536057},\n",
       " 'Ialoveni': {'perp_mean_content': 5.511339569281896,\n",
       "  'perp_mean_titles': 17.293080409648322},\n",
       " 'Orhei': {'perp_mean_content': 5.936147769000515,\n",
       "  'perp_mean_titles': 17.42870360204244},\n",
       " 'Sangerei': {'perp_mean_content': 8.13447624428399,\n",
       "  'perp_mean_titles': 41.61370956692085},\n",
       " 'Soroca': {'perp_mean_content': 6.335093907494515,\n",
       "  'perp_mean_titles': 19.677706888274706},\n",
       " 'Ungheni': {'perp_mean_content': 5.4114761675257705,\n",
       "  'perp_mean_titles': 18.093500091194446}}"
      ]
     },
     "execution_count": 107,
     "metadata": {},
     "output_type": "execute_result"
    }
   ],
   "source": [
    "perps = {}\n",
    "\n",
    "for region in data_all:\n",
    "    perps[region] = {'perp_mean_content': data_all[region][0]['perp_mean_content'], 'perp_mean_titles': data_all[region][0]['perp_mean_titles']}\n",
    "perps"
   ]
  },
  {
   "cell_type": "code",
   "execution_count": 27,
   "metadata": {},
   "outputs": [
    {
     "name": "stdout",
     "output_type": "stream",
     "text": [
      "Canada_Quebec {'perp_mean_content': 10.833763400482047, 'perp_mean_titles': 6.2103789162723135}\n",
      "Germania {'perp_mean_content': 4.747078700687334, 'perp_mean_titles': 12.073335432717512}\n",
      "Comrat {'perp_mean_content': 1.0130222212795297, 'perp_mean_titles': 7.699024417756835}\n",
      "Calarasi {'perp_mean_content': 4.056850054395062, 'perp_mean_titles': 5.800228037905479}\n",
      "4.754445076024772\n",
      "7.8465435292555235\n"
     ]
    }
   ],
   "source": [
    "max_perp_mean_content = max(perps, key=lambda x: perps[x]['perp_mean_content'])\n",
    "\n",
    "max_perp_mean_titles = max(perps, key=lambda x: perps[x]['perp_mean_titles'])\n",
    "\n",
    "min_perp_mean_content = min(perps, key=lambda x: perps[x]['perp_mean_content'])\n",
    "\n",
    "min_perp_mean_titles = min(perps, key=lambda x: perps[x]['perp_mean_titles'])\n",
    "\n",
    "mean_perp_mean_content = np.array([perps[region]['perp_mean_content'] for region in perps]).mean()\n",
    "\n",
    "mean_perp_mean_titles = np.array([perps[region]['perp_mean_titles'] for region in perps]).mean()\n",
    "\n",
    "print(max_perp_mean_content, perps[max_perp_mean_content])\n",
    "print(max_perp_mean_titles, perps[max_perp_mean_titles])\n",
    "print(min_perp_mean_content, perps[min_perp_mean_content])\n",
    "print(min_perp_mean_titles, perps[min_perp_mean_titles])\n",
    "print(mean_perp_mean_content)\n",
    "print(mean_perp_mean_titles)"
   ]
  },
  {
   "cell_type": "code",
   "execution_count": 119,
   "metadata": {},
   "outputs": [
    {
     "data": {
      "text/plain": [
       "{'Ardeal': {'perp_mean_content': 5.751458664448664,\n",
       "  'perp_mean_titles': 19.469325917975933},\n",
       " 'Banat': {'perp_mean_content': 5.753388123351686,\n",
       "  'perp_mean_titles': 25.670908271072946},\n",
       " 'Bucovina': {'perp_mean_content': 5.769342613491103,\n",
       "  'perp_mean_titles': 23.16982716342716},\n",
       " 'Crisana': {'perp_mean_content': 4.871670708658944,\n",
       "  'perp_mean_titles': 19.832449963704747},\n",
       " 'Dobrogea': {'perp_mean_content': 5.747985444347711,\n",
       "  'perp_mean_titles': 23.180526442663353},\n",
       " 'Maramures': {'perp_mean_content': 13.421830254469933,\n",
       "  'perp_mean_titles': 25.992916183051396},\n",
       " 'Moldova': {'perp_mean_content': 5.675965732441846,\n",
       "  'perp_mean_titles': 21.04225534706127},\n",
       " 'Muntenia': {'perp_mean_content': 5.444595038042894,\n",
       "  'perp_mean_titles': 21.52940025087017},\n",
       " 'Oltenia': {'perp_mean_content': 5.188908686969207,\n",
       "  'perp_mean_titles': 25.397589315014734}}"
      ]
     },
     "execution_count": 119,
     "metadata": {},
     "output_type": "execute_result"
    }
   ],
   "source": [
    "perps_ro = {}\n",
    "\n",
    "for region in data_ro:\n",
    "    perps_ro[region] = {'perp_mean_content': data_ro[region][0]['perp_mean_content'], 'perp_mean_titles': data_ro[region][0]['perp_mean_titles']}\n",
    "perps_ro"
   ]
  },
  {
   "cell_type": "code",
   "execution_count": 120,
   "metadata": {},
   "outputs": [
    {
     "name": "stdout",
     "output_type": "stream",
     "text": [
      "Maramures {'perp_mean_content': 13.421830254469933, 'perp_mean_titles': 25.992916183051396}\n",
      "Maramures {'perp_mean_content': 13.421830254469933, 'perp_mean_titles': 25.992916183051396}\n",
      "Crisana {'perp_mean_content': 4.871670708658944, 'perp_mean_titles': 19.832449963704747}\n",
      "Ardeal {'perp_mean_content': 5.751458664448664, 'perp_mean_titles': 19.469325917975933}\n",
      "6.40279391846911\n",
      "22.809466539426854\n"
     ]
    }
   ],
   "source": [
    "max_perp_mean_content = max(perps_ro, key=lambda x: perps_ro[x]['perp_mean_content'])\n",
    "\n",
    "max_perp_mean_titles = max(perps_ro, key=lambda x: perps_ro[x]['perp_mean_titles'])\n",
    "\n",
    "min_perp_mean_content = min(perps_ro, key=lambda x: perps_ro[x]['perp_mean_content'])\n",
    "\n",
    "min_perp_mean_titles = min(perps_ro, key=lambda x: perps_ro[x]['perp_mean_titles'])\n",
    "\n",
    "mean_perp_mean_content = np.array([perps_ro[region]['perp_mean_content'] for region in perps_ro]).mean()\n",
    "\n",
    "mean_perp_mean_titles = np.array([perps_ro[region]['perp_mean_titles'] for region in perps_ro]).mean()\n",
    "\n",
    "print(max_perp_mean_content, perps_ro[max_perp_mean_content])\n",
    "print(max_perp_mean_titles, perps_ro[max_perp_mean_titles])\n",
    "print(min_perp_mean_content, perps_ro[min_perp_mean_content])\n",
    "print(min_perp_mean_titles, perps_ro[min_perp_mean_titles])\n",
    "print(mean_perp_mean_content)\n",
    "print(mean_perp_mean_titles)"
   ]
  },
  {
   "cell_type": "code",
   "execution_count": 126,
   "metadata": {},
   "outputs": [
    {
     "data": {
      "text/plain": [
       "{'Balti': {'perp_mean_content': 12.215739777970464,\n",
       "  'perp_mean_titles': 14.529845790701472},\n",
       " 'Cahul': {'perp_mean_content': 5.195794975902112,\n",
       "  'perp_mean_titles': 20.166223523219767},\n",
       " 'Calarasi': {'perp_mean_content': 5.450399099874605,\n",
       "  'perp_mean_titles': 13.834963795748166},\n",
       " 'Causeni': {'perp_mean_content': 5.59575673812383,\n",
       "  'perp_mean_titles': 18.85432291513904},\n",
       " 'Comrat': {'perp_mean_content': 1.0127063458927361,\n",
       "  'perp_mean_titles': 20.687583745212184},\n",
       " 'Criuleni': {'perp_mean_content': 6.59403945005169,\n",
       "  'perp_mean_titles': 29.731714095214443},\n",
       " 'Hincesti': {'perp_mean_content': 7.785259888660579,\n",
       "  'perp_mean_titles': 24.538667454536057},\n",
       " 'Ialoveni': {'perp_mean_content': 5.511339569281896,\n",
       "  'perp_mean_titles': 17.293080409648322},\n",
       " 'Orhei': {'perp_mean_content': 5.936147769000515,\n",
       "  'perp_mean_titles': 17.42870360204244},\n",
       " 'Sangerei': {'perp_mean_content': 8.13447624428399,\n",
       "  'perp_mean_titles': 41.61370956692085},\n",
       " 'Soroca': {'perp_mean_content': 6.335093907494515,\n",
       "  'perp_mean_titles': 19.677706888274706},\n",
       " 'Ungheni': {'perp_mean_content': 5.4114761675257705,\n",
       "  'perp_mean_titles': 18.093500091194446}}"
      ]
     },
     "execution_count": 126,
     "metadata": {},
     "output_type": "execute_result"
    }
   ],
   "source": [
    "perps_md = {}\n",
    "\n",
    "for region in data_md:\n",
    "    perps_md[region] = {'perp_mean_content': data_md[region][0]['perp_mean_content'], 'perp_mean_titles': data_md[region][0]['perp_mean_titles']}\n",
    "perps_md"
   ]
  },
  {
   "cell_type": "code",
   "execution_count": 127,
   "metadata": {},
   "outputs": [
    {
     "name": "stdout",
     "output_type": "stream",
     "text": [
      "Balti {'perp_mean_content': 12.215739777970464, 'perp_mean_titles': 14.529845790701472}\n",
      "Sangerei {'perp_mean_content': 8.13447624428399, 'perp_mean_titles': 41.61370956692085}\n",
      "Comrat {'perp_mean_content': 1.0127063458927361, 'perp_mean_titles': 20.687583745212184}\n",
      "Calarasi {'perp_mean_content': 5.450399099874605, 'perp_mean_titles': 13.834963795748166}\n",
      "6.264852494505225\n",
      "21.370835156487658\n"
     ]
    }
   ],
   "source": [
    "max_perp_mean_content = max(perps_md, key=lambda x: perps_md[x]['perp_mean_content'])\n",
    "\n",
    "max_perp_mean_titles = max(perps_md, key=lambda x: perps_md[x]['perp_mean_titles'])\n",
    "\n",
    "min_perp_mean_content = min(perps_md, key=lambda x: perps_md[x]['perp_mean_content'])\n",
    "\n",
    "min_perp_mean_titles = min(perps_md, key=lambda x: perps_md[x]['perp_mean_titles'])\n",
    "\n",
    "mean_perp_mean_content = np.array([perps_md[region]['perp_mean_content'] for region in perps_md]).mean()\n",
    "\n",
    "mean_perp_mean_titles = np.array([perps_md[region]['perp_mean_titles'] for region in perps_md]).mean()\n",
    "\n",
    "print(max_perp_mean_content, perps_md[max_perp_mean_content])\n",
    "print(max_perp_mean_titles, perps_md[max_perp_mean_titles])\n",
    "print(min_perp_mean_content, perps_md[min_perp_mean_content])\n",
    "print(min_perp_mean_titles, perps_md[min_perp_mean_titles])\n",
    "print(mean_perp_mean_content)\n",
    "print(mean_perp_mean_titles)"
   ]
  },
  {
   "cell_type": "code",
   "execution_count": 123,
   "metadata": {},
   "outputs": [
    {
     "data": {
      "text/plain": [
       "{'Canada_EN': {'perp_mean_content': 8.21525492834543,\n",
       "  'perp_mean_titles': 52.29616743236795},\n",
       " 'Canada_Quebec': {'perp_mean_content': 10.143759484599345,\n",
       "  'perp_mean_titles': 16.18879653735022},\n",
       " 'Germania': {'perp_mean_content': 5.698722855357119,\n",
       "  'perp_mean_titles': 50.447757980097016},\n",
       " 'Italia': {'perp_mean_content': 5.736000476039346,\n",
       "  'perp_mean_titles': 15.089274619587318},\n",
       " 'UK': {'perp_mean_content': 5.275529231506267,\n",
       "  'perp_mean_titles': 41.0789956906958},\n",
       " 'Spania': {'perp_mean_content': 5.590222862917776,\n",
       "  'perp_mean_titles': 32.55872785279452}}"
      ]
     },
     "execution_count": 123,
     "metadata": {},
     "output_type": "execute_result"
    }
   ],
   "source": [
    "perps_int = {}\n",
    "\n",
    "for region in data_int:\n",
    "    perps_int[region] = {'perp_mean_content': data_int[region][0]['perp_mean_content'], 'perp_mean_titles': data_int[region][0]['perp_mean_titles']}\n",
    "perps_int"
   ]
  },
  {
   "cell_type": "code",
   "execution_count": 124,
   "metadata": {},
   "outputs": [
    {
     "name": "stdout",
     "output_type": "stream",
     "text": [
      "Canada_Quebec {'perp_mean_content': 10.143759484599345, 'perp_mean_titles': 16.18879653735022}\n",
      "Canada_EN {'perp_mean_content': 8.21525492834543, 'perp_mean_titles': 52.29616743236795}\n",
      "UK {'perp_mean_content': 5.275529231506267, 'perp_mean_titles': 41.0789956906958}\n",
      "Italia {'perp_mean_content': 5.736000476039346, 'perp_mean_titles': 15.089274619587318}\n",
      "6.776581639794213\n",
      "34.6099533521488\n"
     ]
    }
   ],
   "source": [
    "max_perp_mean_content = max(perps_int, key=lambda x: perps_int[x]['perp_mean_content'])\n",
    "\n",
    "max_perp_mean_titles = max(perps_int, key=lambda x: perps_int[x]['perp_mean_titles'])\n",
    "\n",
    "min_perp_mean_content = min(perps_int, key=lambda x: perps_int[x]['perp_mean_content'])\n",
    "\n",
    "min_perp_mean_titles = min(perps_int, key=lambda x: perps_int[x]['perp_mean_titles'])\n",
    "\n",
    "mean_perp_mean_content = np.array([perps_int[region]['perp_mean_content'] for region in perps_int]).mean()\n",
    "\n",
    "mean_perp_mean_titles = np.array([perps_int[region]['perp_mean_titles'] for region in perps_int]).mean()\n",
    "\n",
    "print(max_perp_mean_content, perps_int[max_perp_mean_content])\n",
    "print(max_perp_mean_titles, perps_int[max_perp_mean_titles])\n",
    "print(min_perp_mean_content, perps_int[min_perp_mean_content])\n",
    "print(min_perp_mean_titles, perps_int[min_perp_mean_titles])\n",
    "print(mean_perp_mean_content)\n",
    "print(mean_perp_mean_titles)"
   ]
  },
  {
   "cell_type": "code",
   "execution_count": 125,
   "metadata": {},
   "outputs": [
    {
     "data": {
      "text/plain": [
       "{'Serbia': {'perp_mean_content': 5.910033419249699,\n",
       "  'perp_mean_titles': 38.88980865413311},\n",
       " 'Ucraina': {'perp_mean_content': 4.908732967510326,\n",
       "  'perp_mean_titles': 25.652122605246994}}"
      ]
     },
     "execution_count": 125,
     "metadata": {},
     "output_type": "execute_result"
    }
   ],
   "source": [
    "perps_int_ist = {}\n",
    "\n",
    "for region in data_int_ist:\n",
    "    perps_int_ist[region] = {'perp_mean_content': data_int_ist[region][0]['perp_mean_content'], 'perp_mean_titles': data_int_ist[region][0]['perp_mean_titles']}\n",
    "perps_int_ist"
   ]
  }
 ],
 "metadata": {
  "kernelspec": {
   "display_name": "venv",
   "language": "python",
   "name": "python3"
  },
  "language_info": {
   "codemirror_mode": {
    "name": "ipython",
    "version": 3
   },
   "file_extension": ".py",
   "mimetype": "text/x-python",
   "name": "python",
   "nbconvert_exporter": "python",
   "pygments_lexer": "ipython3",
   "version": "3.10.12"
  }
 },
 "nbformat": 4,
 "nbformat_minor": 2
}
