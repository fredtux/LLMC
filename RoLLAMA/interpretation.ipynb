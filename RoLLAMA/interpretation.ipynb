{
 "cells": [
  {
   "cell_type": "code",
   "execution_count": 5,
   "metadata": {},
   "outputs": [],
   "source": [
    "import json\n",
    "import math\n",
    "import numpy as np"
   ]
  },
  {
   "cell_type": "code",
   "execution_count": 6,
   "metadata": {},
   "outputs": [],
   "source": [
    "def clean_nans(data: dict) -> dict:\n",
    "    for region_key in data:\n",
    "        region = data[region_key][0]\n",
    "        \n",
    "        # neg_log_sum = 0\n",
    "        \n",
    "        # Content\n",
    "        for content_key in region['content']:\n",
    "            for i in range(len(region['content'][content_key])):\n",
    "                if math.isnan(region['content'][content_key][i]):\n",
    "                    data[region_key][0]['content'][content_key][i] = 0\n",
    "                    \n",
    "        # Titles\n",
    "        for title_key in region['titles']:\n",
    "            for i in range(len(region['titles'][title_key])):\n",
    "                if math.isnan(region['titles'][title_key][i]):\n",
    "                    data[region_key][0]['titles'][title_key][i] = 0\n",
    "                    # neg_log_sum += 0\n",
    "                # else:\n",
    "                    # neg_log_sum += region['titles'][title_key][i]\n",
    "                    \n",
    "        if math.isnan(data[region_key][0]['perp_mean_content']):\n",
    "            data[region_key][0]['perp_mean_content'] = math.exp(np.array(region['content']['neg_log_likelihood']).mean())\n",
    "        if math.isnan(data[region_key][0]['perp_mean_titles']):\n",
    "            data[region_key][0]['perp_mean_titles'] = math.exp(np.array(region['titles']['neg_log_likelihood']).mean())\n",
    "            \n",
    "    return data"
   ]
  },
  {
   "cell_type": "code",
   "execution_count": 7,
   "metadata": {},
   "outputs": [],
   "source": [
    "# data_rest['Moldova'][0]['titles']['neg_log_likelihood']\n",
    "# data_rest['Moldova'][0]['perp_mean_titles']"
   ]
  },
  {
   "cell_type": "code",
   "execution_count": 8,
   "metadata": {},
   "outputs": [
    {
     "name": "stdout",
     "output_type": "stream",
     "text": [
      "dict_keys(['Ardeal', 'Banat', 'Bucovina', 'Crisana', 'Dobrogea', 'Maramures', 'Moldova', 'Muntenia', 'Oltenia'])\n",
      "dict_keys(['Canada_EN', 'Canada_Quebec', 'Germania', 'Italia', 'UK', 'Spania'])\n",
      "dict_keys(['Serbia', 'Ucraina'])\n",
      "dict_keys(['Ardeal', 'Banat', 'Bucovina', 'Canada_EN', 'Canada_Quebec', 'Crisana', 'Dobrogea', 'Germania', 'Italia', 'Maramures', 'Moldova', 'Muntenia', 'Oltenia', 'Serbia', 'Spania', 'Ucraina', 'UK'])\n"
     ]
    }
   ],
   "source": [
    "with open(\"results_regions_rest.json\") as f:\n",
    "    data_rest = json.load(f)\n",
    "data_rest = clean_nans(data_rest)\n",
    "    \n",
    "    \n",
    "data_ro = data_rest.copy()\n",
    "data_ro = clean_nans(data_ro)\n",
    "\n",
    "data_int = {\"Canada_EN\": [], \"Canada_Quebec\": [], \"Germania\": [], \"Italia\": [], \"UK\": [], \"Spania\": []}\n",
    "data_int_ist = {\"Serbia\": [], \"Ucraina\": []}\n",
    "\n",
    "for key in data_int:\n",
    "    data_int[key] = data_ro[key]\n",
    "    data_ro.pop(key)\n",
    "    \n",
    "for key in data_int_ist:\n",
    "    data_int_ist[key] = data_ro[key]\n",
    "    data_ro.pop(key)\n",
    "    \n",
    "print(data_ro.keys())\n",
    "print(data_int.keys())\n",
    "print(data_int_ist.keys())\n",
    "\n",
    "print(data_rest.keys())\n"
   ]
  },
  {
   "cell_type": "code",
   "execution_count": 9,
   "metadata": {},
   "outputs": [
    {
     "name": "stdout",
     "output_type": "stream",
     "text": [
      "dict_keys(['Balti', 'Cahul', 'Calarasi', 'Causeni', 'Comrat', 'Criuleni', 'Hincesti', 'Ialoveni', 'Orhei', 'Sangerei', 'Soroca', 'Ungheni'])\n"
     ]
    }
   ],
   "source": [
    "with open(\"results_regions_md.json\") as f:\n",
    "    data_md = json.load(f)\n",
    "\n",
    "data_md = clean_nans(data_md)\n",
    "\n",
    "print(data_md.keys())"
   ]
  },
  {
   "cell_type": "code",
   "execution_count": 10,
   "metadata": {},
   "outputs": [],
   "source": [
    "data_all = {**data_ro, **data_int, **data_int_ist, **data_md}"
   ]
  },
  {
   "cell_type": "code",
   "execution_count": 11,
   "metadata": {},
   "outputs": [
    {
     "data": {
      "text/plain": [
       "dict_keys(['content', 'titles', 'perp_mean_content', 'perp_mean_titles'])"
      ]
     },
     "execution_count": 11,
     "metadata": {},
     "output_type": "execute_result"
    }
   ],
   "source": [
    "data_all['Ardeal'][0].keys()"
   ]
  },
  {
   "cell_type": "code",
   "execution_count": 12,
   "metadata": {},
   "outputs": [
    {
     "data": {
      "text/plain": [
       "{'Ardeal': {'perp_mean_content': 4.11988123537562,\n",
       "  'perp_mean_titles': 6.8154556026767805},\n",
       " 'Banat': {'perp_mean_content': 3.774686696359812,\n",
       "  'perp_mean_titles': 7.565259425454763},\n",
       " 'Bucovina': {'perp_mean_content': 3.9298467986431134,\n",
       "  'perp_mean_titles': 6.946063853353723},\n",
       " 'Crisana': {'perp_mean_content': 4.339751111537143,\n",
       "  'perp_mean_titles': 6.608141059858067},\n",
       " 'Dobrogea': {'perp_mean_content': 3.8242365778199727,\n",
       "  'perp_mean_titles': 6.529627169431906},\n",
       " 'Maramures': {'perp_mean_content': 5.797486126184573,\n",
       "  'perp_mean_titles': 8.19785606681166},\n",
       " 'Moldova': {'perp_mean_content': 3.9821497806020107,\n",
       "  'perp_mean_titles': 6.661038244193629},\n",
       " 'Muntenia': {'perp_mean_content': 3.680444205389645,\n",
       "  'perp_mean_titles': 6.0760401810295175},\n",
       " 'Oltenia': {'perp_mean_content': 3.5997690612450666,\n",
       "  'perp_mean_titles': 6.657202079260356},\n",
       " 'Canada_EN': {'perp_mean_content': 5.961570441448722,\n",
       "  'perp_mean_titles': 8.948589242624795},\n",
       " 'Canada_Quebec': {'perp_mean_content': 10.833763400482047,\n",
       "  'perp_mean_titles': 6.2103789162723135},\n",
       " 'Germania': {'perp_mean_content': 4.747078700687334,\n",
       "  'perp_mean_titles': 12.073335432717512},\n",
       " 'Italia': {'perp_mean_content': 4.497565248945628,\n",
       "  'perp_mean_titles': 7.498733942678052},\n",
       " 'UK': {'perp_mean_content': 4.769135037155428,\n",
       "  'perp_mean_titles': 7.661450396958569},\n",
       " 'Spania': {'perp_mean_content': 4.469173491132009,\n",
       "  'perp_mean_titles': 10.318162189160294},\n",
       " 'Serbia': {'perp_mean_content': 4.790100658341748,\n",
       "  'perp_mean_titles': 10.960143270655541},\n",
       " 'Ucraina': {'perp_mean_content': 4.291430199420347,\n",
       "  'perp_mean_titles': 9.044876061592126},\n",
       " 'Balti': {'perp_mean_content': 5.942809724251852,\n",
       "  'perp_mean_titles': 6.660875081427548},\n",
       " 'Cahul': {'perp_mean_content': 4.026942868382406,\n",
       "  'perp_mean_titles': 8.16505956384544},\n",
       " 'Calarasi': {'perp_mean_content': 4.056850054395062,\n",
       "  'perp_mean_titles': 5.800228037905479},\n",
       " 'Causeni': {'perp_mean_content': 4.145000573353799,\n",
       "  'perp_mean_titles': 8.040855803660067},\n",
       " 'Comrat': {'perp_mean_content': 1.0130222212795297,\n",
       "  'perp_mean_titles': 7.699024417756835},\n",
       " 'Criuleni': {'perp_mean_content': 4.85809126110217,\n",
       "  'perp_mean_titles': 10.75739791330969},\n",
       " 'Hincesti': {'perp_mean_content': 9.869468679442504,\n",
       "  'perp_mean_titles': 7.545177458925458},\n",
       " 'Ialoveni': {'perp_mean_content': 4.261352190642733,\n",
       "  'perp_mean_titles': 6.749286570844493},\n",
       " 'Orhei': {'perp_mean_content': 4.2920217567774035,\n",
       "  'perp_mean_titles': 7.0056750663824525},\n",
       " 'Sangerei': {'perp_mean_content': 5.772268637470266,\n",
       "  'perp_mean_titles': 9.44000381675157},\n",
       " 'Soroca': {'perp_mean_content': 4.157610539663843,\n",
       "  'perp_mean_titles': 8.09109282516786},\n",
       " 'Ungheni': {'perp_mean_content': 4.075399927186599,\n",
       "  'perp_mean_titles': 6.822732657703721}}"
      ]
     },
     "execution_count": 12,
     "metadata": {},
     "output_type": "execute_result"
    }
   ],
   "source": [
    "perps = {}\n",
    "\n",
    "for region in data_all:\n",
    "    perps[region] = {'perp_mean_content': data_all[region][0]['perp_mean_content'], 'perp_mean_titles': data_all[region][0]['perp_mean_titles']}\n",
    "perps"
   ]
  },
  {
   "cell_type": "code",
   "execution_count": 13,
   "metadata": {},
   "outputs": [
    {
     "name": "stdout",
     "output_type": "stream",
     "text": [
      "Canada_Quebec {'perp_mean_content': 10.833763400482047, 'perp_mean_titles': 6.2103789162723135}\n",
      "Germania {'perp_mean_content': 4.747078700687334, 'perp_mean_titles': 12.073335432717512}\n",
      "Comrat {'perp_mean_content': 1.0130222212795297, 'perp_mean_titles': 7.699024417756835}\n",
      "Calarasi {'perp_mean_content': 4.056850054395062, 'perp_mean_titles': 5.800228037905479}\n",
      "4.754445076024772\n",
      "7.8465435292555235\n"
     ]
    }
   ],
   "source": [
    "max_perp_mean_content = max(perps, key=lambda x: perps[x]['perp_mean_content'])\n",
    "\n",
    "max_perp_mean_titles = max(perps, key=lambda x: perps[x]['perp_mean_titles'])\n",
    "\n",
    "min_perp_mean_content = min(perps, key=lambda x: perps[x]['perp_mean_content'])\n",
    "\n",
    "min_perp_mean_titles = min(perps, key=lambda x: perps[x]['perp_mean_titles'])\n",
    "\n",
    "mean_perp_mean_content = np.array([perps[region]['perp_mean_content'] for region in perps]).mean()\n",
    "\n",
    "mean_perp_mean_titles = np.array([perps[region]['perp_mean_titles'] for region in perps]).mean()\n",
    "\n",
    "print(max_perp_mean_content, perps[max_perp_mean_content])\n",
    "print(max_perp_mean_titles, perps[max_perp_mean_titles])\n",
    "print(min_perp_mean_content, perps[min_perp_mean_content])\n",
    "print(min_perp_mean_titles, perps[min_perp_mean_titles])\n",
    "print(mean_perp_mean_content)\n",
    "print(mean_perp_mean_titles)"
   ]
  },
  {
   "cell_type": "code",
   "execution_count": 14,
   "metadata": {},
   "outputs": [
    {
     "data": {
      "text/plain": [
       "{'Ardeal': {'perp_mean_content': 4.11988123537562,\n",
       "  'perp_mean_titles': 6.8154556026767805},\n",
       " 'Banat': {'perp_mean_content': 3.774686696359812,\n",
       "  'perp_mean_titles': 7.565259425454763},\n",
       " 'Bucovina': {'perp_mean_content': 3.9298467986431134,\n",
       "  'perp_mean_titles': 6.946063853353723},\n",
       " 'Crisana': {'perp_mean_content': 4.339751111537143,\n",
       "  'perp_mean_titles': 6.608141059858067},\n",
       " 'Dobrogea': {'perp_mean_content': 3.8242365778199727,\n",
       "  'perp_mean_titles': 6.529627169431906},\n",
       " 'Maramures': {'perp_mean_content': 5.797486126184573,\n",
       "  'perp_mean_titles': 8.19785606681166},\n",
       " 'Moldova': {'perp_mean_content': 3.9821497806020107,\n",
       "  'perp_mean_titles': 6.661038244193629},\n",
       " 'Muntenia': {'perp_mean_content': 3.680444205389645,\n",
       "  'perp_mean_titles': 6.0760401810295175},\n",
       " 'Oltenia': {'perp_mean_content': 3.5997690612450666,\n",
       "  'perp_mean_titles': 6.657202079260356}}"
      ]
     },
     "execution_count": 14,
     "metadata": {},
     "output_type": "execute_result"
    }
   ],
   "source": [
    "perps_ro = {}\n",
    "\n",
    "for region in data_ro:\n",
    "    perps_ro[region] = {'perp_mean_content': data_ro[region][0]['perp_mean_content'], 'perp_mean_titles': data_ro[region][0]['perp_mean_titles']}\n",
    "perps_ro"
   ]
  },
  {
   "cell_type": "code",
   "execution_count": 15,
   "metadata": {},
   "outputs": [
    {
     "name": "stdout",
     "output_type": "stream",
     "text": [
      "Maramures {'perp_mean_content': 5.797486126184573, 'perp_mean_titles': 8.19785606681166}\n",
      "Maramures {'perp_mean_content': 5.797486126184573, 'perp_mean_titles': 8.19785606681166}\n",
      "Oltenia {'perp_mean_content': 3.5997690612450666, 'perp_mean_titles': 6.657202079260356}\n",
      "Muntenia {'perp_mean_content': 3.680444205389645, 'perp_mean_titles': 6.0760401810295175}\n",
      "4.116472399239663\n",
      "6.8951870757856\n"
     ]
    }
   ],
   "source": [
    "max_perp_mean_content = max(perps_ro, key=lambda x: perps_ro[x]['perp_mean_content'])\n",
    "\n",
    "max_perp_mean_titles = max(perps_ro, key=lambda x: perps_ro[x]['perp_mean_titles'])\n",
    "\n",
    "min_perp_mean_content = min(perps_ro, key=lambda x: perps_ro[x]['perp_mean_content'])\n",
    "\n",
    "min_perp_mean_titles = min(perps_ro, key=lambda x: perps_ro[x]['perp_mean_titles'])\n",
    "\n",
    "mean_perp_mean_content = np.array([perps_ro[region]['perp_mean_content'] for region in perps_ro]).mean()\n",
    "\n",
    "mean_perp_mean_titles = np.array([perps_ro[region]['perp_mean_titles'] for region in perps_ro]).mean()\n",
    "\n",
    "print(max_perp_mean_content, perps[max_perp_mean_content])\n",
    "print(max_perp_mean_titles, perps[max_perp_mean_titles])\n",
    "print(min_perp_mean_content, perps[min_perp_mean_content])\n",
    "print(min_perp_mean_titles, perps[min_perp_mean_titles])\n",
    "print(mean_perp_mean_content)\n",
    "print(mean_perp_mean_titles)"
   ]
  },
  {
   "cell_type": "code",
   "execution_count": 16,
   "metadata": {},
   "outputs": [
    {
     "data": {
      "text/plain": [
       "{'Canada_EN': {'perp_mean_content': 5.961570441448722,\n",
       "  'perp_mean_titles': 8.948589242624795},\n",
       " 'Canada_Quebec': {'perp_mean_content': 10.833763400482047,\n",
       "  'perp_mean_titles': 6.2103789162723135},\n",
       " 'Germania': {'perp_mean_content': 4.747078700687334,\n",
       "  'perp_mean_titles': 12.073335432717512},\n",
       " 'Italia': {'perp_mean_content': 4.497565248945628,\n",
       "  'perp_mean_titles': 7.498733942678052},\n",
       " 'UK': {'perp_mean_content': 4.769135037155428,\n",
       "  'perp_mean_titles': 7.661450396958569},\n",
       " 'Spania': {'perp_mean_content': 4.469173491132009,\n",
       "  'perp_mean_titles': 10.318162189160294}}"
      ]
     },
     "execution_count": 16,
     "metadata": {},
     "output_type": "execute_result"
    }
   ],
   "source": [
    "perps_int = {}\n",
    "\n",
    "for region in data_int:\n",
    "    perps_int[region] = {'perp_mean_content': data_int[region][0]['perp_mean_content'], 'perp_mean_titles': data_int[region][0]['perp_mean_titles']}\n",
    "perps_int"
   ]
  },
  {
   "cell_type": "code",
   "execution_count": 17,
   "metadata": {},
   "outputs": [
    {
     "name": "stdout",
     "output_type": "stream",
     "text": [
      "Canada_Quebec {'perp_mean_content': 10.833763400482047, 'perp_mean_titles': 6.2103789162723135}\n",
      "Germania {'perp_mean_content': 4.747078700687334, 'perp_mean_titles': 12.073335432717512}\n",
      "Spania {'perp_mean_content': 4.469173491132009, 'perp_mean_titles': 10.318162189160294}\n",
      "Canada_Quebec {'perp_mean_content': 10.833763400482047, 'perp_mean_titles': 6.2103789162723135}\n",
      "5.8797143866418615\n",
      "8.785108353401924\n"
     ]
    }
   ],
   "source": [
    "max_perp_mean_content = max(perps_int, key=lambda x: perps_int[x]['perp_mean_content'])\n",
    "\n",
    "max_perp_mean_titles = max(perps_int, key=lambda x: perps_int[x]['perp_mean_titles'])\n",
    "\n",
    "min_perp_mean_content = min(perps_int, key=lambda x: perps_int[x]['perp_mean_content'])\n",
    "\n",
    "min_perp_mean_titles = min(perps_int, key=lambda x: perps_int[x]['perp_mean_titles'])\n",
    "\n",
    "mean_perp_mean_content = np.array([perps_int[region]['perp_mean_content'] for region in perps_int]).mean()\n",
    "\n",
    "mean_perp_mean_titles = np.array([perps_int[region]['perp_mean_titles'] for region in perps_int]).mean()\n",
    "\n",
    "print(max_perp_mean_content, perps_int[max_perp_mean_content])\n",
    "print(max_perp_mean_titles, perps_int[max_perp_mean_titles])\n",
    "print(min_perp_mean_content, perps_int[min_perp_mean_content])\n",
    "print(min_perp_mean_titles, perps_int[min_perp_mean_titles])\n",
    "print(mean_perp_mean_content)\n",
    "print(mean_perp_mean_titles)"
   ]
  },
  {
   "cell_type": "code",
   "execution_count": 18,
   "metadata": {},
   "outputs": [
    {
     "data": {
      "text/plain": [
       "{'Serbia': {'perp_mean_content': 4.790100658341748,\n",
       "  'perp_mean_titles': 10.960143270655541},\n",
       " 'Ucraina': {'perp_mean_content': 4.291430199420347,\n",
       "  'perp_mean_titles': 9.044876061592126}}"
      ]
     },
     "execution_count": 18,
     "metadata": {},
     "output_type": "execute_result"
    }
   ],
   "source": [
    "perps_int_ist = {}\n",
    "\n",
    "for region in data_int_ist:\n",
    "    perps_int_ist[region] = {'perp_mean_content': data_int_ist[region][0]['perp_mean_content'], 'perp_mean_titles': data_int_ist[region][0]['perp_mean_titles']}\n",
    "perps_int_ist"
   ]
  }
 ],
 "metadata": {
  "kernelspec": {
   "display_name": "venv",
   "language": "python",
   "name": "python3"
  },
  "language_info": {
   "codemirror_mode": {
    "name": "ipython",
    "version": 3
   },
   "file_extension": ".py",
   "mimetype": "text/x-python",
   "name": "python",
   "nbconvert_exporter": "python",
   "pygments_lexer": "ipython3",
   "version": "3.10.12"
  }
 },
 "nbformat": 4,
 "nbformat_minor": 2
}
