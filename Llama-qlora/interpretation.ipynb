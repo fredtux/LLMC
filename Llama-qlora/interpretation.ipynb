{
 "cells": [
  {
   "cell_type": "code",
   "execution_count": 17,
   "metadata": {},
   "outputs": [],
   "source": [
    "import json\n",
    "import math\n",
    "import numpy as np"
   ]
  },
  {
   "cell_type": "code",
   "execution_count": 18,
   "metadata": {},
   "outputs": [],
   "source": [
    "def clean_nans(data: dict) -> dict:\n",
    "    for region_key in data:\n",
    "        region = data[region_key][0]\n",
    "        \n",
    "        # neg_log_sum = 0\n",
    "        \n",
    "        # Content\n",
    "        for content_key in region['content']:\n",
    "            for i in range(len(region['content'][content_key])):\n",
    "                if math.isnan(region['content'][content_key][i]):\n",
    "                    data[region_key][0]['content'][content_key][i] = 0\n",
    "                    \n",
    "        # Titles\n",
    "        for title_key in region['titles']:\n",
    "            for i in range(len(region['titles'][title_key])):\n",
    "                if math.isnan(region['titles'][title_key][i]):\n",
    "                    data[region_key][0]['titles'][title_key][i] = 0\n",
    "                    # neg_log_sum += 0\n",
    "                # else:\n",
    "                    # neg_log_sum += region['titles'][title_key][i]\n",
    "                    \n",
    "        if math.isnan(data[region_key][0]['perp_mean_content']):\n",
    "            data[region_key][0]['perp_mean_content'] = math.exp(np.array(region['content']['neg_log_likelihood']).mean())\n",
    "        if math.isnan(data[region_key][0]['perp_mean_titles']):\n",
    "            data[region_key][0]['perp_mean_titles'] = math.exp(np.array(region['titles']['neg_log_likelihood']).mean())\n",
    "            \n",
    "    return data"
   ]
  },
  {
   "cell_type": "code",
   "execution_count": 19,
   "metadata": {},
   "outputs": [],
   "source": [
    "# data_rest['Moldova'][0]['titles']['neg_log_likelihood']\n",
    "# data_rest['Moldova'][0]['perp_mean_titles']"
   ]
  },
  {
   "cell_type": "code",
   "execution_count": 20,
   "metadata": {},
   "outputs": [
    {
     "name": "stdout",
     "output_type": "stream",
     "text": [
      "dict_keys(['Ardeal', 'Banat', 'Bucovina', 'Crisana', 'Dobrogea', 'Maramures', 'Moldova', 'Muntenia', 'Oltenia'])\n",
      "dict_keys(['Canada_EN', 'Canada_Quebec', 'Germania', 'Italia', 'UK', 'Spania'])\n",
      "dict_keys(['Serbia', 'Ucraina'])\n",
      "dict_keys(['Ardeal', 'Banat', 'Bucovina', 'Canada_EN', 'Canada_Quebec', 'Crisana', 'Dobrogea', 'Germania', 'Italia', 'Maramures', 'Moldova', 'Muntenia', 'Oltenia', 'Serbia', 'Spania', 'Ucraina', 'UK'])\n"
     ]
    }
   ],
   "source": [
    "with open(\"results_regions_qlora_rest.json\") as f:\n",
    "    data_rest = json.load(f)\n",
    "data_rest = clean_nans(data_rest)\n",
    "    \n",
    "    \n",
    "data_ro = data_rest.copy()\n",
    "data_ro = clean_nans(data_ro)\n",
    "\n",
    "data_int = {\"Canada_EN\": [], \"Canada_Quebec\": [], \"Germania\": [], \"Italia\": [], \"UK\": [], \"Spania\": []}\n",
    "data_int_ist = {\"Serbia\": [], \"Ucraina\": []}\n",
    "\n",
    "for key in data_int:\n",
    "    data_int[key] = data_ro[key]\n",
    "    data_ro.pop(key)\n",
    "    \n",
    "for key in data_int_ist:\n",
    "    data_int_ist[key] = data_ro[key]\n",
    "    data_ro.pop(key)\n",
    "    \n",
    "print(data_ro.keys())\n",
    "print(data_int.keys())\n",
    "print(data_int_ist.keys())\n",
    "\n",
    "print(data_rest.keys())\n"
   ]
  },
  {
   "cell_type": "code",
   "execution_count": 21,
   "metadata": {},
   "outputs": [
    {
     "name": "stdout",
     "output_type": "stream",
     "text": [
      "dict_keys(['Balti', 'Cahul', 'Calarasi', 'Causeni', 'Comrat', 'Criuleni', 'Hincesti', 'Ialoveni', 'Orhei', 'Sangerei', 'Soroca', 'Ungheni'])\n"
     ]
    }
   ],
   "source": [
    "with open(\"results_regions_qlora_md.json\") as f:\n",
    "    data_md = json.load(f)\n",
    "\n",
    "data_md = clean_nans(data_md)\n",
    "\n",
    "print(data_md.keys())"
   ]
  },
  {
   "cell_type": "code",
   "execution_count": 22,
   "metadata": {},
   "outputs": [],
   "source": [
    "data_all = {**data_ro, **data_int, **data_int_ist, **data_md}"
   ]
  },
  {
   "cell_type": "code",
   "execution_count": 23,
   "metadata": {},
   "outputs": [
    {
     "data": {
      "text/plain": [
       "dict_keys(['content', 'titles', 'perp_mean_content', 'perp_mean_titles'])"
      ]
     },
     "execution_count": 23,
     "metadata": {},
     "output_type": "execute_result"
    }
   ],
   "source": [
    "data_all['Ardeal'][0].keys()"
   ]
  },
  {
   "cell_type": "code",
   "execution_count": 24,
   "metadata": {},
   "outputs": [
    {
     "data": {
      "text/plain": [
       "{'Ardeal': {'perp_mean_content': 5.751458664448664,\n",
       "  'perp_mean_titles': 19.469325917975933},\n",
       " 'Banat': {'perp_mean_content': 5.753388123351686,\n",
       "  'perp_mean_titles': 25.670908271072946},\n",
       " 'Bucovina': {'perp_mean_content': 5.769342613491103,\n",
       "  'perp_mean_titles': 23.16982716342716},\n",
       " 'Crisana': {'perp_mean_content': 4.871670708658944,\n",
       "  'perp_mean_titles': 19.832449963704747},\n",
       " 'Dobrogea': {'perp_mean_content': 5.747985444347711,\n",
       "  'perp_mean_titles': 23.180526442663353},\n",
       " 'Maramures': {'perp_mean_content': 13.421830254469933,\n",
       "  'perp_mean_titles': 25.992916183051396},\n",
       " 'Moldova': {'perp_mean_content': 5.675965732441846,\n",
       "  'perp_mean_titles': 21.04225534706127},\n",
       " 'Muntenia': {'perp_mean_content': 5.444595038042894,\n",
       "  'perp_mean_titles': 21.52940025087017},\n",
       " 'Oltenia': {'perp_mean_content': 5.188908686969207,\n",
       "  'perp_mean_titles': 25.397589315014734},\n",
       " 'Canada_EN': {'perp_mean_content': 8.21525492834543,\n",
       "  'perp_mean_titles': 52.29616743236795},\n",
       " 'Canada_Quebec': {'perp_mean_content': 10.143759484599345,\n",
       "  'perp_mean_titles': 16.18879653735022},\n",
       " 'Germania': {'perp_mean_content': 5.698722855357119,\n",
       "  'perp_mean_titles': 50.447757980097016},\n",
       " 'Italia': {'perp_mean_content': 5.736000476039346,\n",
       "  'perp_mean_titles': 15.089274619587318},\n",
       " 'UK': {'perp_mean_content': 5.275529231506267,\n",
       "  'perp_mean_titles': 41.0789956906958},\n",
       " 'Spania': {'perp_mean_content': 5.590222862917776,\n",
       "  'perp_mean_titles': 32.55872785279452},\n",
       " 'Serbia': {'perp_mean_content': 5.910033419249699,\n",
       "  'perp_mean_titles': 38.88980865413311},\n",
       " 'Ucraina': {'perp_mean_content': 4.908732967510326,\n",
       "  'perp_mean_titles': 25.652122605246994},\n",
       " 'Balti': {'perp_mean_content': 12.215739777970464,\n",
       "  'perp_mean_titles': 14.529845790701472},\n",
       " 'Cahul': {'perp_mean_content': 5.195794975902112,\n",
       "  'perp_mean_titles': 20.166223523219767},\n",
       " 'Calarasi': {'perp_mean_content': 5.450399099874605,\n",
       "  'perp_mean_titles': 13.834963795748166},\n",
       " 'Causeni': {'perp_mean_content': 5.59575673812383,\n",
       "  'perp_mean_titles': 18.85432291513904},\n",
       " 'Comrat': {'perp_mean_content': 1.0127063458927361,\n",
       "  'perp_mean_titles': 20.687583745212184},\n",
       " 'Criuleni': {'perp_mean_content': 6.59403945005169,\n",
       "  'perp_mean_titles': 29.731714095214443},\n",
       " 'Hincesti': {'perp_mean_content': 7.785259888660579,\n",
       "  'perp_mean_titles': 24.538667454536057},\n",
       " 'Ialoveni': {'perp_mean_content': 5.511339569281896,\n",
       "  'perp_mean_titles': 17.293080409648322},\n",
       " 'Orhei': {'perp_mean_content': 5.936147769000515,\n",
       "  'perp_mean_titles': 17.42870360204244},\n",
       " 'Sangerei': {'perp_mean_content': 8.13447624428399,\n",
       "  'perp_mean_titles': 41.61370956692085},\n",
       " 'Soroca': {'perp_mean_content': 6.335093907494515,\n",
       "  'perp_mean_titles': 19.677706888274706},\n",
       " 'Ungheni': {'perp_mean_content': 5.4114761675257705,\n",
       "  'perp_mean_titles': 18.093500091194446}}"
      ]
     },
     "execution_count": 24,
     "metadata": {},
     "output_type": "execute_result"
    }
   ],
   "source": [
    "perps = {}\n",
    "\n",
    "for region in data_all:\n",
    "    perps[region] = {'perp_mean_content': data_all[region][0]['perp_mean_content'], 'perp_mean_titles': data_all[region][0]['perp_mean_titles']}\n",
    "perps"
   ]
  },
  {
   "cell_type": "code",
   "execution_count": 25,
   "metadata": {},
   "outputs": [
    {
     "name": "stdout",
     "output_type": "stream",
     "text": [
      "Maramures {'perp_mean_content': 13.421830254469933, 'perp_mean_titles': 25.992916183051396}\n",
      "Canada_EN {'perp_mean_content': 8.21525492834543, 'perp_mean_titles': 52.29616743236795}\n",
      "Comrat {'perp_mean_content': 1.0127063458927361, 'perp_mean_titles': 20.687583745212184}\n",
      "Calarasi {'perp_mean_content': 5.450399099874605, 'perp_mean_titles': 13.834963795748166}\n",
      "6.354539014683104\n",
      "25.308168003619535\n"
     ]
    }
   ],
   "source": [
    "max_perp_mean_content = max(perps, key=lambda x: perps[x]['perp_mean_content'])\n",
    "\n",
    "max_perp_mean_titles = max(perps, key=lambda x: perps[x]['perp_mean_titles'])\n",
    "\n",
    "min_perp_mean_content = min(perps, key=lambda x: perps[x]['perp_mean_content'])\n",
    "\n",
    "min_perp_mean_titles = min(perps, key=lambda x: perps[x]['perp_mean_titles'])\n",
    "\n",
    "mean_perp_mean_content = np.array([perps[region]['perp_mean_content'] for region in perps]).mean()\n",
    "\n",
    "mean_perp_mean_titles = np.array([perps[region]['perp_mean_titles'] for region in perps]).mean()\n",
    "\n",
    "print(max_perp_mean_content, perps[max_perp_mean_content])\n",
    "print(max_perp_mean_titles, perps[max_perp_mean_titles])\n",
    "print(min_perp_mean_content, perps[min_perp_mean_content])\n",
    "print(min_perp_mean_titles, perps[min_perp_mean_titles])\n",
    "print(mean_perp_mean_content)\n",
    "print(mean_perp_mean_titles)"
   ]
  },
  {
   "cell_type": "code",
   "execution_count": 26,
   "metadata": {},
   "outputs": [
    {
     "data": {
      "text/plain": [
       "{'Ardeal': {'perp_mean_content': 5.751458664448664,\n",
       "  'perp_mean_titles': 19.469325917975933},\n",
       " 'Banat': {'perp_mean_content': 5.753388123351686,\n",
       "  'perp_mean_titles': 25.670908271072946},\n",
       " 'Bucovina': {'perp_mean_content': 5.769342613491103,\n",
       "  'perp_mean_titles': 23.16982716342716},\n",
       " 'Crisana': {'perp_mean_content': 4.871670708658944,\n",
       "  'perp_mean_titles': 19.832449963704747},\n",
       " 'Dobrogea': {'perp_mean_content': 5.747985444347711,\n",
       "  'perp_mean_titles': 23.180526442663353},\n",
       " 'Maramures': {'perp_mean_content': 13.421830254469933,\n",
       "  'perp_mean_titles': 25.992916183051396},\n",
       " 'Moldova': {'perp_mean_content': 5.675965732441846,\n",
       "  'perp_mean_titles': 21.04225534706127},\n",
       " 'Muntenia': {'perp_mean_content': 5.444595038042894,\n",
       "  'perp_mean_titles': 21.52940025087017},\n",
       " 'Oltenia': {'perp_mean_content': 5.188908686969207,\n",
       "  'perp_mean_titles': 25.397589315014734}}"
      ]
     },
     "execution_count": 26,
     "metadata": {},
     "output_type": "execute_result"
    }
   ],
   "source": [
    "perps_ro = {}\n",
    "\n",
    "for region in data_ro:\n",
    "    perps_ro[region] = {'perp_mean_content': data_ro[region][0]['perp_mean_content'], 'perp_mean_titles': data_ro[region][0]['perp_mean_titles']}\n",
    "perps_ro"
   ]
  },
  {
   "cell_type": "code",
   "execution_count": 27,
   "metadata": {},
   "outputs": [
    {
     "name": "stdout",
     "output_type": "stream",
     "text": [
      "Maramures {'perp_mean_content': 13.421830254469933, 'perp_mean_titles': 25.992916183051396}\n",
      "Maramures {'perp_mean_content': 13.421830254469933, 'perp_mean_titles': 25.992916183051396}\n",
      "Crisana {'perp_mean_content': 4.871670708658944, 'perp_mean_titles': 19.832449963704747}\n",
      "Ardeal {'perp_mean_content': 5.751458664448664, 'perp_mean_titles': 19.469325917975933}\n",
      "6.40279391846911\n",
      "22.809466539426854\n"
     ]
    }
   ],
   "source": [
    "max_perp_mean_content = max(perps_ro, key=lambda x: perps_ro[x]['perp_mean_content'])\n",
    "\n",
    "max_perp_mean_titles = max(perps_ro, key=lambda x: perps_ro[x]['perp_mean_titles'])\n",
    "\n",
    "min_perp_mean_content = min(perps_ro, key=lambda x: perps_ro[x]['perp_mean_content'])\n",
    "\n",
    "min_perp_mean_titles = min(perps_ro, key=lambda x: perps_ro[x]['perp_mean_titles'])\n",
    "\n",
    "mean_perp_mean_content = np.array([perps_ro[region]['perp_mean_content'] for region in perps_ro]).mean()\n",
    "\n",
    "mean_perp_mean_titles = np.array([perps_ro[region]['perp_mean_titles'] for region in perps_ro]).mean()\n",
    "\n",
    "print(max_perp_mean_content, perps_ro[max_perp_mean_content])\n",
    "print(max_perp_mean_titles, perps_ro[max_perp_mean_titles])\n",
    "print(min_perp_mean_content, perps_ro[min_perp_mean_content])\n",
    "print(min_perp_mean_titles, perps_ro[min_perp_mean_titles])\n",
    "print(mean_perp_mean_content)\n",
    "print(mean_perp_mean_titles)"
   ]
  },
  {
   "cell_type": "code",
   "execution_count": 28,
   "metadata": {},
   "outputs": [
    {
     "data": {
      "text/plain": [
       "{'Balti': {'perp_mean_content': 12.215739777970464,\n",
       "  'perp_mean_titles': 14.529845790701472},\n",
       " 'Cahul': {'perp_mean_content': 5.195794975902112,\n",
       "  'perp_mean_titles': 20.166223523219767},\n",
       " 'Calarasi': {'perp_mean_content': 5.450399099874605,\n",
       "  'perp_mean_titles': 13.834963795748166},\n",
       " 'Causeni': {'perp_mean_content': 5.59575673812383,\n",
       "  'perp_mean_titles': 18.85432291513904},\n",
       " 'Comrat': {'perp_mean_content': 1.0127063458927361,\n",
       "  'perp_mean_titles': 20.687583745212184},\n",
       " 'Criuleni': {'perp_mean_content': 6.59403945005169,\n",
       "  'perp_mean_titles': 29.731714095214443},\n",
       " 'Hincesti': {'perp_mean_content': 7.785259888660579,\n",
       "  'perp_mean_titles': 24.538667454536057},\n",
       " 'Ialoveni': {'perp_mean_content': 5.511339569281896,\n",
       "  'perp_mean_titles': 17.293080409648322},\n",
       " 'Orhei': {'perp_mean_content': 5.936147769000515,\n",
       "  'perp_mean_titles': 17.42870360204244},\n",
       " 'Sangerei': {'perp_mean_content': 8.13447624428399,\n",
       "  'perp_mean_titles': 41.61370956692085},\n",
       " 'Soroca': {'perp_mean_content': 6.335093907494515,\n",
       "  'perp_mean_titles': 19.677706888274706},\n",
       " 'Ungheni': {'perp_mean_content': 5.4114761675257705,\n",
       "  'perp_mean_titles': 18.093500091194446}}"
      ]
     },
     "execution_count": 28,
     "metadata": {},
     "output_type": "execute_result"
    }
   ],
   "source": [
    "perps_md = {}\n",
    "\n",
    "for region in data_md:\n",
    "    perps_md[region] = {'perp_mean_content': data_md[region][0]['perp_mean_content'], 'perp_mean_titles': data_md[region][0]['perp_mean_titles']}\n",
    "perps_md"
   ]
  },
  {
   "cell_type": "code",
   "execution_count": 29,
   "metadata": {},
   "outputs": [
    {
     "name": "stdout",
     "output_type": "stream",
     "text": [
      "Balti {'perp_mean_content': 12.215739777970464, 'perp_mean_titles': 14.529845790701472}\n",
      "Sangerei {'perp_mean_content': 8.13447624428399, 'perp_mean_titles': 41.61370956692085}\n",
      "Comrat {'perp_mean_content': 1.0127063458927361, 'perp_mean_titles': 20.687583745212184}\n",
      "Calarasi {'perp_mean_content': 5.450399099874605, 'perp_mean_titles': 13.834963795748166}\n",
      "6.264852494505225\n",
      "21.370835156487658\n"
     ]
    }
   ],
   "source": [
    "max_perp_mean_content = max(perps_md, key=lambda x: perps_md[x]['perp_mean_content'])\n",
    "\n",
    "max_perp_mean_titles = max(perps_md, key=lambda x: perps_md[x]['perp_mean_titles'])\n",
    "\n",
    "min_perp_mean_content = min(perps_md, key=lambda x: perps_md[x]['perp_mean_content'])\n",
    "\n",
    "min_perp_mean_titles = min(perps_md, key=lambda x: perps_md[x]['perp_mean_titles'])\n",
    "\n",
    "mean_perp_mean_content = np.array([perps_md[region]['perp_mean_content'] for region in perps_md]).mean()\n",
    "\n",
    "mean_perp_mean_titles = np.array([perps_md[region]['perp_mean_titles'] for region in perps_md]).mean()\n",
    "\n",
    "print(max_perp_mean_content, perps_md[max_perp_mean_content])\n",
    "print(max_perp_mean_titles, perps_md[max_perp_mean_titles])\n",
    "print(min_perp_mean_content, perps_md[min_perp_mean_content])\n",
    "print(min_perp_mean_titles, perps_md[min_perp_mean_titles])\n",
    "print(mean_perp_mean_content)\n",
    "print(mean_perp_mean_titles)"
   ]
  },
  {
   "cell_type": "code",
   "execution_count": 30,
   "metadata": {},
   "outputs": [
    {
     "data": {
      "text/plain": [
       "{'Canada_EN': {'perp_mean_content': 8.21525492834543,\n",
       "  'perp_mean_titles': 52.29616743236795},\n",
       " 'Canada_Quebec': {'perp_mean_content': 10.143759484599345,\n",
       "  'perp_mean_titles': 16.18879653735022},\n",
       " 'Germania': {'perp_mean_content': 5.698722855357119,\n",
       "  'perp_mean_titles': 50.447757980097016},\n",
       " 'Italia': {'perp_mean_content': 5.736000476039346,\n",
       "  'perp_mean_titles': 15.089274619587318},\n",
       " 'UK': {'perp_mean_content': 5.275529231506267,\n",
       "  'perp_mean_titles': 41.0789956906958},\n",
       " 'Spania': {'perp_mean_content': 5.590222862917776,\n",
       "  'perp_mean_titles': 32.55872785279452}}"
      ]
     },
     "execution_count": 30,
     "metadata": {},
     "output_type": "execute_result"
    }
   ],
   "source": [
    "perps_int = {}\n",
    "\n",
    "for region in data_int:\n",
    "    perps_int[region] = {'perp_mean_content': data_int[region][0]['perp_mean_content'], 'perp_mean_titles': data_int[region][0]['perp_mean_titles']}\n",
    "perps_int"
   ]
  },
  {
   "cell_type": "code",
   "execution_count": 31,
   "metadata": {},
   "outputs": [
    {
     "name": "stdout",
     "output_type": "stream",
     "text": [
      "Canada_Quebec {'perp_mean_content': 10.143759484599345, 'perp_mean_titles': 16.18879653735022}\n",
      "Canada_EN {'perp_mean_content': 8.21525492834543, 'perp_mean_titles': 52.29616743236795}\n",
      "UK {'perp_mean_content': 5.275529231506267, 'perp_mean_titles': 41.0789956906958}\n",
      "Italia {'perp_mean_content': 5.736000476039346, 'perp_mean_titles': 15.089274619587318}\n",
      "6.776581639794213\n",
      "34.6099533521488\n"
     ]
    }
   ],
   "source": [
    "max_perp_mean_content = max(perps_int, key=lambda x: perps_int[x]['perp_mean_content'])\n",
    "\n",
    "max_perp_mean_titles = max(perps_int, key=lambda x: perps_int[x]['perp_mean_titles'])\n",
    "\n",
    "min_perp_mean_content = min(perps_int, key=lambda x: perps_int[x]['perp_mean_content'])\n",
    "\n",
    "min_perp_mean_titles = min(perps_int, key=lambda x: perps_int[x]['perp_mean_titles'])\n",
    "\n",
    "mean_perp_mean_content = np.array([perps_int[region]['perp_mean_content'] for region in perps_int]).mean()\n",
    "\n",
    "mean_perp_mean_titles = np.array([perps_int[region]['perp_mean_titles'] for region in perps_int]).mean()\n",
    "\n",
    "print(max_perp_mean_content, perps_int[max_perp_mean_content])\n",
    "print(max_perp_mean_titles, perps_int[max_perp_mean_titles])\n",
    "print(min_perp_mean_content, perps_int[min_perp_mean_content])\n",
    "print(min_perp_mean_titles, perps_int[min_perp_mean_titles])\n",
    "print(mean_perp_mean_content)\n",
    "print(mean_perp_mean_titles)"
   ]
  },
  {
   "cell_type": "code",
   "execution_count": 32,
   "metadata": {},
   "outputs": [
    {
     "data": {
      "text/plain": [
       "{'Serbia': {'perp_mean_content': 5.910033419249699,\n",
       "  'perp_mean_titles': 38.88980865413311},\n",
       " 'Ucraina': {'perp_mean_content': 4.908732967510326,\n",
       "  'perp_mean_titles': 25.652122605246994}}"
      ]
     },
     "execution_count": 32,
     "metadata": {},
     "output_type": "execute_result"
    }
   ],
   "source": [
    "perps_int_ist = {}\n",
    "\n",
    "for region in data_int_ist:\n",
    "    perps_int_ist[region] = {'perp_mean_content': data_int_ist[region][0]['perp_mean_content'], 'perp_mean_titles': data_int_ist[region][0]['perp_mean_titles']}\n",
    "perps_int_ist"
   ]
  },
  {
   "cell_type": "code",
   "execution_count": 33,
   "metadata": {},
   "outputs": [
    {
     "data": {
      "text/plain": [
       "{'Ardeal': {'mean_perp': np.float64(6.307036406545586),\n",
       "  'min_perp': np.float64(2.315623686726468),\n",
       "  'max_perp': np.float64(53.31486173626284)},\n",
       " 'Banat': {'mean_perp': np.float64(6.402969847826993),\n",
       "  'min_perp': np.float64(1.9822511216646752),\n",
       "  'max_perp': np.float64(78.70963474236042)},\n",
       " 'Bucovina': {'mean_perp': np.float64(6.082884390631247),\n",
       "  'min_perp': np.float64(3.143704354891156),\n",
       "  'max_perp': np.float64(23.699154379017784)},\n",
       " 'Crisana': {'mean_perp': np.float64(5.170787469739921),\n",
       "  'min_perp': np.float64(2.9420400386883245),\n",
       "  'max_perp': np.float64(26.104565784641537)},\n",
       " 'Dobrogea': {'mean_perp': np.float64(5.995982314290072),\n",
       "  'min_perp': np.float64(2.3885249054896183),\n",
       "  'max_perp': np.float64(17.373385404172904)},\n",
       " 'Maramures': {'mean_perp': np.float64(17.462211775353886),\n",
       "  'min_perp': np.float64(2.9712073821651126),\n",
       "  'max_perp': np.float64(33.51319651842366)},\n",
       " 'Moldova': {'mean_perp': np.float64(6.0888882661069035),\n",
       "  'min_perp': np.float64(2.2499052665881445),\n",
       "  'max_perp': np.float64(29.222075131627452)},\n",
       " 'Muntenia': {'mean_perp': np.float64(5.887480114011627),\n",
       "  'min_perp': np.float64(2.4125007660512168),\n",
       "  'max_perp': np.float64(37.87145688809238)},\n",
       " 'Oltenia': {'mean_perp': np.float64(5.63011307205545),\n",
       "  'min_perp': np.float64(1.8048756764385923),\n",
       "  'max_perp': np.float64(173.29460361376857)},\n",
       " 'Canada_EN': {'mean_perp': np.float64(8.539098594020153),\n",
       "  'min_perp': np.float64(4.3872319462339835),\n",
       "  'max_perp': np.float64(26.444028693227065)},\n",
       " 'Canada_Quebec': {'mean_perp': np.float64(11.393235209446255),\n",
       "  'min_perp': np.float64(4.059421333810387),\n",
       "  'max_perp': np.float64(33.05748779622848)},\n",
       " 'Germania': {'mean_perp': np.float64(5.779161428059346),\n",
       "  'min_perp': np.float64(3.47440319183075),\n",
       "  'max_perp': np.float64(11.257591271077718)},\n",
       " 'Italia': {'mean_perp': np.float64(6.009571841307941),\n",
       "  'min_perp': np.float64(4.4031636279600646),\n",
       "  'max_perp': np.float64(13.150648727764224)},\n",
       " 'UK': {'mean_perp': np.float64(5.377869662863642),\n",
       "  'min_perp': np.float64(2.9422227687027482),\n",
       "  'max_perp': np.float64(13.61260560725748)},\n",
       " 'Spania': {'mean_perp': np.float64(5.753154080155172),\n",
       "  'min_perp': np.float64(2.0220314916617523),\n",
       "  'max_perp': np.float64(14.896060367843662)},\n",
       " 'Serbia': {'mean_perp': np.float64(6.020583214334482),\n",
       "  'min_perp': np.float64(3.5101858955292102),\n",
       "  'max_perp': np.float64(12.950320153284634)},\n",
       " 'Ucraina': {'mean_perp': np.float64(5.016979103098545),\n",
       "  'min_perp': np.float64(3.210644959592093),\n",
       "  'max_perp': np.float64(10.696041953335673)},\n",
       " 'Balti': {'mean_perp': np.float64(15.236638250107317),\n",
       "  'min_perp': np.float64(5.5494085460369655),\n",
       "  'max_perp': np.float64(73.17437191225977)},\n",
       " 'Cahul': {'mean_perp': np.float64(5.6146456318324525),\n",
       "  'min_perp': np.float64(3.079504581786088),\n",
       "  'max_perp': np.float64(45.77189007382304)},\n",
       " 'Calarasi': {'mean_perp': np.float64(5.56089127400804),\n",
       "  'min_perp': np.float64(3.2033941371857138),\n",
       "  'max_perp': np.float64(10.850488583508147)},\n",
       " 'Causeni': {'mean_perp': np.float64(5.967667739910929),\n",
       "  'min_perp': np.float64(2.714606734635498),\n",
       "  'max_perp': np.float64(36.26995918956048)},\n",
       " 'Comrat': {'mean_perp': np.float64(9.584117284445703),\n",
       "  'min_perp': np.float64(9.584117284445703),\n",
       "  'max_perp': np.float64(9.584117284445703)},\n",
       " 'Criuleni': {'mean_perp': np.float64(6.9051116244304405),\n",
       "  'min_perp': np.float64(2.920065477998645),\n",
       "  'max_perp': np.float64(23.508845773213032)},\n",
       " 'Hincesti': {'mean_perp': np.float64(7.827681649016479),\n",
       "  'min_perp': np.float64(4.769684016858155),\n",
       "  'max_perp': np.float64(7.988628892814284)},\n",
       " 'Ialoveni': {'mean_perp': np.float64(5.673958593258925),\n",
       "  'min_perp': np.float64(2.846365505340671),\n",
       "  'max_perp': np.float64(14.810651144510778)},\n",
       " 'Orhei': {'mean_perp': np.float64(6.074649022385312),\n",
       "  'min_perp': np.float64(3.369695592121892),\n",
       "  'max_perp': np.float64(11.839173849352937)},\n",
       " 'Sangerei': {'mean_perp': np.float64(8.759551608948264),\n",
       "  'min_perp': np.float64(2.27558574958503),\n",
       "  'max_perp': np.float64(20.754052869798418)},\n",
       " 'Soroca': {'mean_perp': np.float64(6.722854843324354),\n",
       "  'min_perp': np.float64(2.9229522960731393),\n",
       "  'max_perp': np.float64(18.078375517580515)},\n",
       " 'Ungheni': {'mean_perp': np.float64(5.571731521761463),\n",
       "  'min_perp': np.float64(2.6330559559274267),\n",
       "  'max_perp': np.float64(16.392329106635067)},\n",
       " 'Overall': {'mean_perp': np.float64(7.1868105459750655),\n",
       "  'min_perp': np.float64(1.8048756764385923),\n",
       "  'max_perp': np.float64(173.29460361376857)}}"
      ]
     },
     "execution_count": 33,
     "metadata": {},
     "output_type": "execute_result"
    }
   ],
   "source": [
    "stats_content = {}\n",
    "for region in data_all:\n",
    "    mean_perp = np.array(data_all[region][0]['content']['perplexity'])\n",
    "    mean_perp = mean_perp[mean_perp > 0].mean()\n",
    "    min_perp = np.array(data_all[region][0]['content']['perplexity'])\n",
    "    min_perp = min_perp[min_perp > 0].min()\n",
    "    max_perp = np.array(data_all[region][0]['content']['perplexity']).max()\n",
    "    \n",
    "    stats_content[region] = {'mean_perp': mean_perp, 'min_perp': min_perp, 'max_perp': max_perp}\n",
    "stats_content['Overall'] = {'mean_perp': np.array([stats_content[region]['mean_perp'] for region in stats_content]).mean(), 'min_perp': np.array([stats_content[region]['min_perp'] for region in stats_content]).min(), 'max_perp': np.array([stats_content[region]['max_perp'] for region in stats_content]).max()}\n",
    "stats_content"
   ]
  },
  {
   "cell_type": "code",
   "execution_count": 34,
   "metadata": {},
   "outputs": [
    {
     "data": {
      "text/plain": [
       "2.826880960058255"
      ]
     },
     "execution_count": 34,
     "metadata": {},
     "output_type": "execute_result"
    }
   ],
   "source": [
    "stdev = 0\n",
    "for region in stats_content:\n",
    "    stdev += (stats_content[region]['mean_perp'] - stats_content['Overall']['mean_perp'])**2\n",
    "stdev = math.sqrt(stdev / len(stats_content))\n",
    "stdev"
   ]
  },
  {
   "cell_type": "code",
   "execution_count": 35,
   "metadata": {},
   "outputs": [
    {
     "data": {
      "text/plain": [
       "{'Ardeal': {'mean_perp': np.float64(341.0582051436138),\n",
       "  'min_perp': np.float64(3.8817133117206506),\n",
       "  'max_perp': np.float64(228951.76612592977)},\n",
       " 'Banat': {'mean_perp': np.float64(44.171446025998875),\n",
       "  'min_perp': np.float64(2.938533892372861),\n",
       "  'max_perp': np.float64(2384.0056981964976)},\n",
       " 'Bucovina': {'mean_perp': np.float64(60.39738061867889),\n",
       "  'min_perp': np.float64(4.81697978462572),\n",
       "  'max_perp': np.float64(7234.501292595525)},\n",
       " 'Crisana': {'mean_perp': np.float64(26.204111514515585),\n",
       "  'min_perp': np.float64(3.218312702668366),\n",
       "  'max_perp': np.float64(258.6636685387093)},\n",
       " 'Dobrogea': {'mean_perp': np.float64(31.95197453321857),\n",
       "  'min_perp': np.float64(3.5747087359693652),\n",
       "  'max_perp': np.float64(328.71521395592197)},\n",
       " 'Maramures': {'mean_perp': np.float64(84.11128250821152),\n",
       "  'min_perp': np.float64(4.09147485841829),\n",
       "  'max_perp': np.float64(28211.908808082382)},\n",
       " 'Moldova': {'mean_perp': np.float64(133.75065552623528),\n",
       "  'min_perp': np.float64(3.7623496843879325),\n",
       "  'max_perp': np.float64(27045.56720182607)},\n",
       " 'Muntenia': {'mean_perp': np.float64(39.592556779909),\n",
       "  'min_perp': np.float64(2.437555035915082),\n",
       "  'max_perp': np.float64(17209.843070027655)},\n",
       " 'Oltenia': {'mean_perp': np.float64(53.14047285228746),\n",
       "  'min_perp': np.float64(3.3967111199195466),\n",
       "  'max_perp': np.float64(27045.56720182607)},\n",
       " 'Canada_EN': {'mean_perp': np.float64(62.84746676256131),\n",
       "  'min_perp': np.float64(9.03216911849708),\n",
       "  'max_perp': np.float64(476.2628218664888)},\n",
       " 'Canada_Quebec': {'mean_perp': np.float64(20.604881107448076),\n",
       "  'min_perp': np.float64(4.63842317486739),\n",
       "  'max_perp': np.float64(77.7846648303018)},\n",
       " 'Germania': {'mean_perp': np.float64(61.67363670631549),\n",
       "  'min_perp': np.float64(14.10329977091723),\n",
       "  'max_perp': np.float64(383.97437882515896)},\n",
       " 'Italia': {'mean_perp': np.float64(18.810620697614304),\n",
       "  'min_perp': np.float64(6.856823798330141),\n",
       "  'max_perp': np.float64(64.39148251013228)},\n",
       " 'UK': {'mean_perp': np.float64(50.17102638283853),\n",
       "  'min_perp': np.float64(11.751306927536737),\n",
       "  'max_perp': np.float64(533.5012340284186)},\n",
       " 'Spania': {'mean_perp': np.float64(48.15196390476721),\n",
       "  'min_perp': np.float64(4.0750505286554946),\n",
       "  'max_perp': np.float64(1373.958776000545)},\n",
       " 'Serbia': {'mean_perp': np.float64(56.64940916964253),\n",
       "  'min_perp': np.float64(6.712410203219748),\n",
       "  'max_perp': np.float64(1080.4935704562204)},\n",
       " 'Ucraina': {'mean_perp': np.float64(29.704141946478178),\n",
       "  'min_perp': np.float64(5.740976995184486),\n",
       "  'max_perp': np.float64(679.5870461839537)},\n",
       " 'Balti': {'mean_perp': np.float64(17.37574017395871),\n",
       "  'min_perp': np.float64(5.5494085460369655),\n",
       "  'max_perp': np.float64(80.79328564958638)},\n",
       " 'Cahul': {'mean_perp': np.float64(26.963105922433222),\n",
       "  'min_perp': np.float64(4.806076055828373),\n",
       "  'max_perp': np.float64(672.8842438759987)},\n",
       " 'Calarasi': {'mean_perp': np.float64(17.371309956275507),\n",
       "  'min_perp': np.float64(4.082700538043834),\n",
       "  'max_perp': np.float64(563.6408980555107)},\n",
       " 'Causeni': {'mean_perp': np.float64(22.327874080700788),\n",
       "  'min_perp': np.float64(3.0278143265734783),\n",
       "  'max_perp': np.float64(123.81630040886074)},\n",
       " 'Comrat': {'mean_perp': np.float64(27.15429006831464),\n",
       "  'min_perp': np.float64(5.535308541615478),\n",
       "  'max_perp': np.float64(227.0776467306425)},\n",
       " 'Criuleni': {'mean_perp': np.float64(49.42210241627182),\n",
       "  'min_perp': np.float64(5.111153651757624),\n",
       "  'max_perp': np.float64(1899.8115996065576)},\n",
       " 'Hincesti': {'mean_perp': np.float64(41.20077143292356),\n",
       "  'min_perp': np.float64(9.75511708853992),\n",
       "  'max_perp': np.float64(347.55968748818617)},\n",
       " 'Ialoveni': {'mean_perp': np.float64(20.683528766158048),\n",
       "  'min_perp': np.float64(4.298418587701332),\n",
       "  'max_perp': np.float64(436.44938367902813)},\n",
       " 'Orhei': {'mean_perp': np.float64(22.521471251380632),\n",
       "  'min_perp': np.float64(4.448230536478896),\n",
       "  'max_perp': np.float64(551.299791588217)},\n",
       " 'Sangerei': {'mean_perp': np.float64(61.49185083288248),\n",
       "  'min_perp': np.float64(5.628568829789195),\n",
       "  'max_perp': np.float64(762.5497318278964)},\n",
       " 'Soroca': {'mean_perp': np.float64(25.278563449958394),\n",
       "  'min_perp': np.float64(5.514718382801128),\n",
       "  'max_perp': np.float64(279.5341175464468)},\n",
       " 'Ungheni': {'mean_perp': np.float64(27.02202442126357),\n",
       "  'min_perp': np.float64(4.457703283869813),\n",
       "  'max_perp': np.float64(2374.6751058551126)},\n",
       " 'Overall': {'mean_perp': np.float64(52.47599534320193),\n",
       "  'min_perp': np.float64(2.437555035915082),\n",
       "  'max_perp': np.float64(228951.76612592977)}}"
      ]
     },
     "execution_count": 35,
     "metadata": {},
     "output_type": "execute_result"
    }
   ],
   "source": [
    "stats_content = {}\n",
    "for region in data_all:\n",
    "    mean_perp = np.array(data_all[region][0]['titles']['perplexity'])\n",
    "    mean_perp = mean_perp[mean_perp > 0].mean()\n",
    "    min_perp = np.array(data_all[region][0]['titles']['perplexity'])\n",
    "    min_perp = min_perp[min_perp > 0].min()\n",
    "    max_perp = np.array(data_all[region][0]['titles']['perplexity']).max()\n",
    "    \n",
    "    stats_content[region] = {'mean_perp': mean_perp, 'min_perp': min_perp, 'max_perp': max_perp}\n",
    "stats_content['Overall'] = {'mean_perp': np.array([stats_content[region]['mean_perp'] for region in stats_content]).mean(), 'min_perp': np.array([stats_content[region]['min_perp'] for region in stats_content]).min(), 'max_perp': np.array([stats_content[region]['max_perp'] for region in stats_content]).max()}\n",
    "stats_content"
   ]
  },
  {
   "cell_type": "code",
   "execution_count": 36,
   "metadata": {},
   "outputs": [
    {
     "data": {
      "text/plain": [
       "58.70141050127573"
      ]
     },
     "execution_count": 36,
     "metadata": {},
     "output_type": "execute_result"
    }
   ],
   "source": [
    "stdev = 0\n",
    "for region in stats_content:\n",
    "    stdev += (stats_content[region]['mean_perp'] - stats_content['Overall']['mean_perp'])**2\n",
    "stdev = math.sqrt(stdev / len(stats_content))\n",
    "stdev"
   ]
  }
 ],
 "metadata": {
  "kernelspec": {
   "display_name": "venv",
   "language": "python",
   "name": "python3"
  },
  "language_info": {
   "codemirror_mode": {
    "name": "ipython",
    "version": 3
   },
   "file_extension": ".py",
   "mimetype": "text/x-python",
   "name": "python",
   "nbconvert_exporter": "python",
   "pygments_lexer": "ipython3",
   "version": "3.10.12"
  }
 },
 "nbformat": 4,
 "nbformat_minor": 2
}
